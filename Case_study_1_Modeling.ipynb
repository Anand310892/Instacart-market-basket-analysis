{
 "cells": [
  {
   "cell_type": "code",
   "execution_count": 1,
   "id": "outdoor-football",
   "metadata": {},
   "outputs": [],
   "source": [
    "import numpy as np\n",
    "import pandas as pd\n",
    "import pickle\n",
    "import matplotlib.pyplot as plt\n",
    "import seaborn as sns\n",
    "color = sns.color_palette()\n",
    "from tqdm.notebook import tqdm\n",
    "from sklearn.calibration import CalibratedClassifierCV\n",
    "import xgboost as xgb\n",
    "\n",
    "from sklearn.metrics import accuracy_score\n",
    "from sklearn.metrics import f1_score\n",
    "from sklearn.naive_bayes import GaussianNB\n",
    "from sklearn.ensemble import RandomForestClassifier\n",
    "\n",
    "\n",
    "import lightgbm\n",
    "from sklearn.model_selection import RandomizedSearchCV\n",
    "from sklearn.preprocessing import scale\n",
    "from sklearn.linear_model import SGDClassifier\n",
    "\n",
    "%matplotlib inline \n",
    "\n",
    "pd.options.mode.chained_assignment = None\n",
    "\n",
    "\n",
    "from sklearn.utils import resample\n",
    "\n",
    "\n",
    "\n",
    "# Importing gc module \n",
    "import gc "
   ]
  },
  {
   "cell_type": "markdown",
   "id": "governmental-meeting",
   "metadata": {},
   "source": [
    "### Featurized data is loaded Here and splitted into train and test data"
   ]
  },
  {
   "cell_type": "code",
   "execution_count": 2,
   "id": "intensive-killer",
   "metadata": {},
   "outputs": [],
   "source": [
    "feature_data = pd.read_csv('feature_data').drop(['Unnamed: 0'],axis=1)\n",
    "#test_data =  pd.read_csv('feature_data_test.csv')"
   ]
  },
  {
   "cell_type": "code",
   "execution_count": 4,
   "id": "animal-lighter",
   "metadata": {},
   "outputs": [
    {
     "data": {
      "text/plain": [
       "(8474661, 79)"
      ]
     },
     "execution_count": 4,
     "metadata": {},
     "output_type": "execute_result"
    }
   ],
   "source": [
    "feature_data.shape"
   ]
  },
  {
   "cell_type": "markdown",
   "id": "fantastic-response",
   "metadata": {},
   "source": [
    "### Train Test Splitting"
   ]
  },
  {
   "cell_type": "code",
   "execution_count": 3,
   "id": "personal-elizabeth",
   "metadata": {},
   "outputs": [],
   "source": [
    "#for final model\n",
    "y_train=feature_data.iloc[0:5932188]['reordered']\n",
    "train_users=feature_data.iloc[0:5932188]['user_id']\n",
    "x_train=feature_data.iloc[0:5932188].drop(['reordered','user_id','product_id'],axis = 1)"
   ]
  },
  {
   "cell_type": "code",
   "execution_count": 4,
   "id": "underlying-microphone",
   "metadata": {},
   "outputs": [],
   "source": [
    "y_test=feature_data.iloc[5932188:]['reordered']\n",
    "test_users=feature_data.iloc[5932188:]['user_id']\n",
    "x_test=feature_data.iloc[5932188:].drop(['reordered','user_id','product_id'],axis = 1)"
   ]
  },
  {
   "cell_type": "code",
   "execution_count": 5,
   "id": "revised-bailey",
   "metadata": {},
   "outputs": [],
   "source": [
    "pred_true_data=feature_data.iloc[5932188:][['user_id','product_id','reordered']]\n",
    "master_train=pd.read_csv('master_train.csv')\n",
    "pred_true_data=pd.merge(pred_true_data,master_train[['user_id','order_id']].drop_duplicates(),on=['user_id'],how='inner')\n",
    "pred_true_data['y_true']=pred_true_data['reordered']\n",
    "pred_true_data.drop(['reordered'],axis=1,inplace=True)"
   ]
  },
  {
   "cell_type": "code",
   "execution_count": 5,
   "id": "dedicated-winner",
   "metadata": {},
   "outputs": [],
   "source": [
    "pred_true_data=pd.read_csv('pred_true_data.csv')"
   ]
  },
  {
   "cell_type": "markdown",
   "id": "imperial-brunswick",
   "metadata": {},
   "source": [
    "### MODELING"
   ]
  },
  {
   "cell_type": "code",
   "execution_count": 16,
   "id": "intermediate-mouse",
   "metadata": {},
   "outputs": [
    {
     "data": {
      "text/plain": [
       "<AxesSubplot:>"
      ]
     },
     "execution_count": 16,
     "metadata": {},
     "output_type": "execute_result"
    },
    {
     "data": {
      "image/png": "[encoded data removed]",
      "text/plain": [
       "<Figure size 432x288 with 1 Axes>"
      ]
     },
     "metadata": {
      "needs_background": "light"
     },
     "output_type": "display_data"
    }
   ],
   "source": [
    "feature_data['reordered'].value_counts().plot(kind='bar')"
   ]
  },
  {
   "cell_type": "markdown",
   "id": "standard-kansas",
   "metadata": {},
   "source": [
    "##### Looks like class is imbalanced we will try to take care of it "
   ]
  },
  {
   "cell_type": "code",
   "execution_count": 17,
   "id": "meaning-taxation",
   "metadata": {},
   "outputs": [
    {
     "data": {
      "text/plain": [
       "0    7645837\n",
       "1     828824\n",
       "Name: reordered, dtype: int64"
      ]
     },
     "execution_count": 17,
     "metadata": {},
     "output_type": "execute_result"
    }
   ],
   "source": [
    "feature_data['reordered'].value_counts()"
   ]
  },
  {
   "cell_type": "markdown",
   "id": "statutory-boulder",
   "metadata": {},
   "source": [
    "### common functions"
   ]
  },
  {
   "cell_type": "markdown",
   "id": "coral-bargain",
   "metadata": {},
   "source": [
    "#### The below function measures micro and macro F1 score when probability estimates are given"
   ]
  },
  {
   "cell_type": "code",
   "execution_count": 38,
   "id": "popular-aruba",
   "metadata": {},
   "outputs": [],
   "source": [
    "def measure_best_F1_score(y_pred_proba):\n",
    "    y_pred=[]\n",
    "    for j in range(len(y_pred_proba)):\n",
    "        if(y_pred_proba[j][1]>0.2):\n",
    "            y_pred.append(1)\n",
    "        else:\n",
    "            y_pred.append(0)\n",
    "    pred_true_data['y_pred']=y_pred\n",
    "    temp_test_order_id=pd.unique(pred_true_data['order_id'])\n",
    "    f_test_products=dict()\n",
    "    f_pred_products=dict()\n",
    "    for oid in tqdm(temp_test_order_id):\n",
    "        temp_data=pred_true_data[pred_true_data['order_id']==oid]\n",
    "        temp_true=temp_data[temp_data['y_true']==1]['product_id'].tolist()\n",
    "        if temp_true:\n",
    "            f_test_products[oid] = temp_true\n",
    "        else:\n",
    "            f_test_products[oid]=['None']\n",
    "        temp_pred=temp_data[temp_data['y_pred']==1]['product_id'].tolist()\n",
    "        if temp_pred:\n",
    "            f_pred_products[oid]=temp_pred\n",
    "        else:\n",
    "            f_pred_products[oid]=[\"None\"]\n",
    "    \n",
    "    f_score=[]\n",
    "    for key in tqdm(f_test_products):\n",
    "        f_score.append(multilabel_fscore(f_test_products[key],f_pred_products[key]))\n",
    "    mean_micro_f1_score=np.mean(f_score)\n",
    "    for_macro_score=[]\n",
    "    for i in f_test_products.values():\n",
    "        for_macro_score.append(len(i))\n",
    "    score_len=zip(f_score,for_macro_score)\n",
    "    temp=0\n",
    "    for score,length in score_len:\n",
    "        temp+=score*length\n",
    "    macro_f1_score=temp/sum(for_macro_score)\n",
    "    return mean_micro_f1_score,macro_f1_score\n",
    "        "
   ]
  },
  {
   "cell_type": "markdown",
   "id": "rocky-alias",
   "metadata": {},
   "source": [
    "#### The below function Calucates multilabel F1_score which will be user in our previous function\n",
    "#### credits https://www.kaggle.com/onodera/multilabel-fscore"
   ]
  },
  {
   "cell_type": "code",
   "execution_count": 8,
   "id": "civilian-serum",
   "metadata": {},
   "outputs": [],
   "source": [
    "def multilabel_fscore(y_true, y_pred):\n",
    "    \"\"\"\n",
    "    ex1:\n",
    "    y_true = [1, 2, 3]\n",
    "    y_pred = [2, 3]\n",
    "    return: 0.8\n",
    "    \n",
    "    ex2:\n",
    "    y_true = [\"None\"]\n",
    "    y_pred = [2, \"None\"]\n",
    "    return: 0.666\n",
    "    \n",
    "    ex3:\n",
    "    y_true = [4, 5, 6, 7]\n",
    "    y_pred = [2, 4, 8, 9]\n",
    "    return: 0.25\n",
    "    \n",
    "    \"\"\"\n",
    "    y_true, y_pred = set(y_true), set(y_pred)\n",
    "    \n",
    "    precision = sum([1 for i in y_pred if i in y_true]) / len(y_pred)\n",
    "    \n",
    "    recall = sum([1 for i in y_true if i in y_pred]) / len(y_true)\n",
    "    \n",
    "    if precision + recall == 0:\n",
    "        return 0\n",
    "    return (2 * precision * recall) / (precision + recall)\n"
   ]
  },
  {
   "cell_type": "markdown",
   "id": "going-weekly",
   "metadata": {},
   "source": [
    "#### The F1 score maximization technique. Specifically designed for kaggle competion. Not be applicable in the real world"
   ]
  },
  {
   "cell_type": "markdown",
   "id": "smoking-nature",
   "metadata": {},
   "source": [
    "##### credits https://www.kaggle.com/mmueller/f1-score-expectation-maximization-in-o-n/"
   ]
  },
  {
   "cell_type": "code",
   "execution_count": 3,
   "id": "round-thursday",
   "metadata": {},
   "outputs": [],
   "source": [
    "# -*- coding: utf-8 -*-\n",
    "\"\"\"\n",
    "@author: Faron\n",
    "\"\"\"\n",
    "import numpy as np\n",
    "from operator import itemgetter\n",
    "\n",
    "'''\n",
    "This kernel implements the O(n²) F1-Score expectation maximization algorithm presented in\n",
    "\"Ye, N., Chai, K., Lee, W., and Chieu, H.  Optimizing F-measures: A Tale of Two Approaches. In ICML, 2012.\"\n",
    "\n",
    "'''\n",
    "\n",
    "\n",
    "class F1Optimizer():\n",
    "    def __init__(self):\n",
    "        pass\n",
    "\n",
    "    @staticmethod\n",
    "    def get_expectations(P, pNone=None):\n",
    "        expectations = []\n",
    "        \n",
    "        P = np.sort(P)[::-1]\n",
    "       \n",
    "        n = np.array(P).shape[0]\n",
    "        \n",
    "        DP_C = np.zeros((n + 2, n + 1))\n",
    "        if pNone is None:\n",
    "            pNone = (1.0 - P).prod()\n",
    "\n",
    "        DP_C[0][0] = 1.0\n",
    "        for j in range(1, n):\n",
    "            DP_C[0][j] = (1.0 - P[j - 1]) * DP_C[0, j - 1]\n",
    "        \n",
    "\n",
    "        for i in range(1, n + 1):\n",
    "            DP_C[i, i] = DP_C[i - 1, i - 1] * P[i - 1]\n",
    "            for j in range(i + 1, n + 1):\n",
    "                DP_C[i, j] = P[j - 1] * DP_C[i - 1, j - 1] + (1.0 - P[j - 1]) * DP_C[i, j - 1]\n",
    "\n",
    "        DP_S = np.zeros((2 * n + 1,))\n",
    "        DP_SNone = np.zeros((2 * n + 1,))\n",
    "        for i in range(1, 2 * n + 1):\n",
    "            DP_S[i] = 1. / (1. * i)\n",
    "            DP_SNone[i] = 1. / (1. * i + 1)\n",
    "        for k in range(n + 1)[::-1]:\n",
    "            f1 = 0\n",
    "            f1None = 0\n",
    "            for k1 in range(k + 1):\n",
    "                \n",
    "                f1 += 2 * k1 * DP_C[k1][k] * DP_S[k + k1]\n",
    "                f1None += 2 * k1 * DP_C[k1][k] * DP_SNone[k + k1]\n",
    "            for i in range(1, 2 * k - 1):\n",
    "                DP_S[i] = (1 - P[k - 1]) * DP_S[i] + P[k - 1] * DP_S[i + 1]\n",
    "                DP_SNone[i] = (1 - P[k - 1]) * DP_SNone[i] + P[k - 1] * DP_SNone[i + 1]\n",
    "            expectations.append([f1None + 2 * pNone / (2 + k), f1])\n",
    "        return np.array(expectations[::-1]).T\n",
    "\n",
    "    @staticmethod\n",
    "    def maximize_expectation(P, pNone=None):\n",
    "        expectations = F1Optimizer.get_expectations(P, pNone)\n",
    "\n",
    "        ix_max = np.unravel_index(expectations.argmax(), expectations.shape)\n",
    "        \n",
    "        max_f1 = expectations[ix_max]\n",
    "\n",
    "        predNone = True if ix_max[0] == 0 else False\n",
    "        best_k = ix_max[1]\n",
    "\n",
    "        return best_k, predNone, max_f1\n",
    "\n",
    "    \n",
    "\n",
    "def get_best_prediction(items, preds, pNone=None):\n",
    "#    print(\"Maximize F1-Expectation\")\n",
    "#    print(\"=\" * 23)\n",
    "    items_preds = sorted(list(zip(items, preds)), key=itemgetter(1), reverse=True)\n",
    "    P = [p for i,p in items_preds]\n",
    "    L = [i for i,p in items_preds]\n",
    "    \n",
    "    opt = F1Optimizer.maximize_expectation(P, pNone)\n",
    "   \n",
    "    best_prediction = ['None'] if opt[1] else []\n",
    "    \n",
    "    best_prediction += (L[:opt[0]])\n",
    "   \n",
    "#    f1_max = opt[2]\n",
    "    \n",
    "#    print(\"Prediction {} yields best E[F1] of {}\\n\".format(best_prediction, f1_max))\n",
    "    return ' '.join(list(map(str,best_prediction)))\n",
    "\n",
    "if __name__ == '__main__':\n",
    "    get_best_prediction(['a', 'b'], [0.01, 0.1],0.6)"
   ]
  },
  {
   "cell_type": "markdown",
   "id": "brown-sentence",
   "metadata": {},
   "source": [
    "##### logistic regresssion with SGD classifier"
   ]
  },
  {
   "cell_type": "markdown",
   "id": "powered-italian",
   "metadata": {},
   "source": [
    "###### data is scaled below as logistic regression,linear svm ,naive baye's  work better with normalized or scaled data\n",
    "###### Data is balance with class_weight='balanced' parameter in SGD classifier"
   ]
  },
  {
   "cell_type": "code",
   "execution_count": 6,
   "id": "numeric-indicator",
   "metadata": {},
   "outputs": [],
   "source": [
    "x_train=scale(x_train,axis=0)\n",
    "x_test=scale(x_test,axis=0)"
   ]
  },
  {
   "cell_type": "code",
   "execution_count": 9,
   "id": "automated-latter",
   "metadata": {},
   "outputs": [
    {
     "data": {
      "application/vnd.jupyter.widget-view+json": {
       "model_id": "07115fc79bad488cb7bf72f06c61b3b0",
       "version_major": 2,
       "version_minor": 0
      },
      "text/plain": [
       "  0%|          | 0/6 [00:00<?, ?it/s]"
      ]
     },
     "metadata": {},
     "output_type": "display_data"
    },
    {
     "data": {
      "application/vnd.jupyter.widget-view+json": {
       "model_id": "cd44098ea5dd488eafa9f4e310d8d240",
       "version_major": 2,
       "version_minor": 0
      },
      "text/plain": [
       "  0%|          | 0/39526 [00:00<?, ?it/s]"
      ]
     },
     "metadata": {},
     "output_type": "display_data"
    },
    {
     "data": {
      "application/vnd.jupyter.widget-view+json": {
       "model_id": "1398e093fd584473bd2fa33da0fc374d",
       "version_major": 2,
       "version_minor": 0
      },
      "text/plain": [
       "  0%|          | 0/39526 [00:00<?, ?it/s]"
      ]
     },
     "metadata": {},
     "output_type": "display_data"
    },
    {
     "data": {
      "application/vnd.jupyter.widget-view+json": {
       "model_id": "b73eb59cca8b4f05af46ac98f62f5642",
       "version_major": 2,
       "version_minor": 0
      },
      "text/plain": [
       "  0%|          | 0/39526 [00:00<?, ?it/s]"
      ]
     },
     "metadata": {},
     "output_type": "display_data"
    },
    {
     "data": {
      "application/vnd.jupyter.widget-view+json": {
       "model_id": "260804e26ed242ca9afd26a02353a53e",
       "version_major": 2,
       "version_minor": 0
      },
      "text/plain": [
       "  0%|          | 0/39526 [00:00<?, ?it/s]"
      ]
     },
     "metadata": {},
     "output_type": "display_data"
    },
    {
     "data": {
      "application/vnd.jupyter.widget-view+json": {
       "model_id": "3d196f70851449bf88c0d861a6e5dfb8",
       "version_major": 2,
       "version_minor": 0
      },
      "text/plain": [
       "  0%|          | 0/39526 [00:00<?, ?it/s]"
      ]
     },
     "metadata": {},
     "output_type": "display_data"
    },
    {
     "data": {
      "application/vnd.jupyter.widget-view+json": {
       "model_id": "5b5a8f10a8eb4fe1b881e31c54693614",
       "version_major": 2,
       "version_minor": 0
      },
      "text/plain": [
       "  0%|          | 0/39526 [00:00<?, ?it/s]"
      ]
     },
     "metadata": {},
     "output_type": "display_data"
    },
    {
     "data": {
      "application/vnd.jupyter.widget-view+json": {
       "model_id": "f598f2e1a8fc4c8a87e53de6f729f33d",
       "version_major": 2,
       "version_minor": 0
      },
      "text/plain": [
       "  0%|          | 0/39526 [00:00<?, ?it/s]"
      ]
     },
     "metadata": {},
     "output_type": "display_data"
    },
    {
     "data": {
      "application/vnd.jupyter.widget-view+json": {
       "model_id": "2b8aa975d70248f2a6960dc65ad9972f",
       "version_major": 2,
       "version_minor": 0
      },
      "text/plain": [
       "  0%|          | 0/39526 [00:00<?, ?it/s]"
      ]
     },
     "metadata": {},
     "output_type": "display_data"
    },
    {
     "data": {
      "application/vnd.jupyter.widget-view+json": {
       "model_id": "7a1ed4a1f9e545bfaabcf56257cb1acb",
       "version_major": 2,
       "version_minor": 0
      },
      "text/plain": [
       "  0%|          | 0/39526 [00:00<?, ?it/s]"
      ]
     },
     "metadata": {},
     "output_type": "display_data"
    },
    {
     "data": {
      "application/vnd.jupyter.widget-view+json": {
       "model_id": "bd4b5a3a5a0842979292619f962efec6",
       "version_major": 2,
       "version_minor": 0
      },
      "text/plain": [
       "  0%|          | 0/39526 [00:00<?, ?it/s]"
      ]
     },
     "metadata": {},
     "output_type": "display_data"
    },
    {
     "data": {
      "application/vnd.jupyter.widget-view+json": {
       "model_id": "4de898638e104bab93ed0ebbe8e53d7f",
       "version_major": 2,
       "version_minor": 0
      },
      "text/plain": [
       "  0%|          | 0/39526 [00:00<?, ?it/s]"
      ]
     },
     "metadata": {},
     "output_type": "display_data"
    },
    {
     "data": {
      "application/vnd.jupyter.widget-view+json": {
       "model_id": "9a93566b13554ebaaf5a13b4b69265cf",
       "version_major": 2,
       "version_minor": 0
      },
      "text/plain": [
       "  0%|          | 0/39526 [00:00<?, ?it/s]"
      ]
     },
     "metadata": {},
     "output_type": "display_data"
    },
    {
     "name": "stderr",
     "output_type": "stream",
     "text": [
      "/opt/conda/lib/python3.7/site-packages/numpy/core/_asarray.py:136: VisibleDeprecationWarning: Creating an ndarray from ragged nested sequences (which is a list-or-tuple of lists-or-tuples-or ndarrays with different lengths or shapes) is deprecated. If you meant to do this, you must specify 'dtype=object' when creating the ndarray\n",
      "  return array(a, dtype, copy=False, order=order, subok=True)\n"
     ]
    }
   ],
   "source": [
    "alpha = [10 ** x for x in range(-5, 1)] \n",
    "f1_scores_logistic=[]\n",
    "for i in tqdm(alpha):\n",
    "    clf = SGDClassifier(alpha=i, penalty='l2', loss='log', random_state=42,class_weight='balanced',n_jobs=-1)\n",
    "    #Here we have taken care of imbalanced dataset.\n",
    "    clf.fit(x_train, y_train)\n",
    "    sig_clf = CalibratedClassifierCV(clf, method=\"sigmoid\")\n",
    "    sig_clf.fit(x_train, y_train)\n",
    "    predict_y = sig_clf.predict_proba(x_test)\n",
    "    micro_f1_score,macro_f1_score = measure_best_F1_score(predict_y)\n",
    "    f1_scores_logistic.append([alpha,micro_f1_score,macro_f1_score])\n",
    "np.save('f1_scores_logistic.npy',f1_scores_logistic)"
   ]
  },
  {
   "cell_type": "code",
   "execution_count": 43,
   "id": "infrared-enough",
   "metadata": {},
   "outputs": [
    {
     "name": "stdout",
     "output_type": "stream",
     "text": [
      "for hyper parameter alpha=0.001,\n",
      "logistic regression best micro f1 score is 0.3714\n",
      "logistic regression best macro f1 score is 0.438\n"
     ]
    }
   ],
   "source": [
    "f1_scores_logistic=np.load('f1_scores_logistic.npy',allow_pickle=True)\n",
    "print('for hyper parameter alpha={},'.format(0.001))\n",
    "print('logistic regression best micro f1 score is {}'.format(np.round(f1_scores_logistic[2][1],4)))\n",
    "print('logistic regression best macro f1 score is {}'.format(np.round(f1_scores_logistic[2][2],4)))"
   ]
  },
  {
   "cell_type": "markdown",
   "id": "perceived-bowling",
   "metadata": {},
   "source": [
    "##### SVM with SGD classifier"
   ]
  },
  {
   "cell_type": "code",
   "execution_count": 10,
   "id": "elder-humanity",
   "metadata": {},
   "outputs": [
    {
     "data": {
      "application/vnd.jupyter.widget-view+json": {
       "model_id": "aea9c071a7dd498b99e45924dba7220f",
       "version_major": 2,
       "version_minor": 0
      },
      "text/plain": [
       "  0%|          | 0/6 [00:00<?, ?it/s]"
      ]
     },
     "metadata": {},
     "output_type": "display_data"
    },
    {
     "data": {
      "application/vnd.jupyter.widget-view+json": {
       "model_id": "ee60f6e870c947d8873b257a8cfed309",
       "version_major": 2,
       "version_minor": 0
      },
      "text/plain": [
       "  0%|          | 0/39526 [00:00<?, ?it/s]"
      ]
     },
     "metadata": {},
     "output_type": "display_data"
    },
    {
     "data": {
      "application/vnd.jupyter.widget-view+json": {
       "model_id": "c79d347b663e4fc6815dcfdd9ec580af",
       "version_major": 2,
       "version_minor": 0
      },
      "text/plain": [
       "  0%|          | 0/39526 [00:00<?, ?it/s]"
      ]
     },
     "metadata": {},
     "output_type": "display_data"
    },
    {
     "data": {
      "application/vnd.jupyter.widget-view+json": {
       "model_id": "4eec3294de5540888bc0c2ad23235bea",
       "version_major": 2,
       "version_minor": 0
      },
      "text/plain": [
       "  0%|          | 0/39526 [00:00<?, ?it/s]"
      ]
     },
     "metadata": {},
     "output_type": "display_data"
    },
    {
     "data": {
      "application/vnd.jupyter.widget-view+json": {
       "model_id": "006c360a08b249289afc293fec8f0f3a",
       "version_major": 2,
       "version_minor": 0
      },
      "text/plain": [
       "  0%|          | 0/39526 [00:00<?, ?it/s]"
      ]
     },
     "metadata": {},
     "output_type": "display_data"
    },
    {
     "data": {
      "application/vnd.jupyter.widget-view+json": {
       "model_id": "899bbeade9874ee1b7f99009d42b0322",
       "version_major": 2,
       "version_minor": 0
      },
      "text/plain": [
       "  0%|          | 0/39526 [00:00<?, ?it/s]"
      ]
     },
     "metadata": {},
     "output_type": "display_data"
    },
    {
     "data": {
      "application/vnd.jupyter.widget-view+json": {
       "model_id": "803171f86cb84b52b45f2d7171476832",
       "version_major": 2,
       "version_minor": 0
      },
      "text/plain": [
       "  0%|          | 0/39526 [00:00<?, ?it/s]"
      ]
     },
     "metadata": {},
     "output_type": "display_data"
    },
    {
     "data": {
      "application/vnd.jupyter.widget-view+json": {
       "model_id": "ff4c8df0b0954ffab9153387c055507e",
       "version_major": 2,
       "version_minor": 0
      },
      "text/plain": [
       "  0%|          | 0/39526 [00:00<?, ?it/s]"
      ]
     },
     "metadata": {},
     "output_type": "display_data"
    },
    {
     "data": {
      "application/vnd.jupyter.widget-view+json": {
       "model_id": "d8539a1e7c1749248a7ae4ede2422671",
       "version_major": 2,
       "version_minor": 0
      },
      "text/plain": [
       "  0%|          | 0/39526 [00:00<?, ?it/s]"
      ]
     },
     "metadata": {},
     "output_type": "display_data"
    },
    {
     "data": {
      "application/vnd.jupyter.widget-view+json": {
       "model_id": "8447999de07f4a57bfc6d59f1d755416",
       "version_major": 2,
       "version_minor": 0
      },
      "text/plain": [
       "  0%|          | 0/39526 [00:00<?, ?it/s]"
      ]
     },
     "metadata": {},
     "output_type": "display_data"
    },
    {
     "data": {
      "application/vnd.jupyter.widget-view+json": {
       "model_id": "38befa5492c34b00950af4e8ae63d58b",
       "version_major": 2,
       "version_minor": 0
      },
      "text/plain": [
       "  0%|          | 0/39526 [00:00<?, ?it/s]"
      ]
     },
     "metadata": {},
     "output_type": "display_data"
    },
    {
     "data": {
      "application/vnd.jupyter.widget-view+json": {
       "model_id": "a1cb16e76581405ba531a17ee19a0350",
       "version_major": 2,
       "version_minor": 0
      },
      "text/plain": [
       "  0%|          | 0/39526 [00:00<?, ?it/s]"
      ]
     },
     "metadata": {},
     "output_type": "display_data"
    },
    {
     "data": {
      "application/vnd.jupyter.widget-view+json": {
       "model_id": "e1868817fc6145f8b79c63cef79cb704",
       "version_major": 2,
       "version_minor": 0
      },
      "text/plain": [
       "  0%|          | 0/39526 [00:00<?, ?it/s]"
      ]
     },
     "metadata": {},
     "output_type": "display_data"
    },
    {
     "name": "stderr",
     "output_type": "stream",
     "text": [
      "/opt/conda/lib/python3.7/site-packages/numpy/core/_asarray.py:136: VisibleDeprecationWarning: Creating an ndarray from ragged nested sequences (which is a list-or-tuple of lists-or-tuples-or ndarrays with different lengths or shapes) is deprecated. If you meant to do this, you must specify 'dtype=object' when creating the ndarray\n",
      "  return array(a, dtype, copy=False, order=order, subok=True)\n"
     ]
    }
   ],
   "source": [
    "# Train a Logistic regression+Calibration model using text features whicha re on-hot encoded\n",
    "alpha = [10 ** x for x in range(-5, 1)]\n",
    "\n",
    "f1_scores_svm=[]\n",
    "for i in tqdm(alpha):\n",
    "    clf = SGDClassifier(alpha=i, penalty='l2', loss='hinge', random_state=42,class_weight='balanced',n_jobs=-1)\n",
    "    clf.fit(x_train, y_train)\n",
    "    \n",
    "    sig_clf = CalibratedClassifierCV(clf, method=\"sigmoid\")\n",
    "    sig_clf.fit(x_train, y_train)\n",
    "    predict_y = sig_clf.predict_proba(x_test)\n",
    "    \n",
    "    micro_f1_score,macro_f1_score = measure_best_F1_score(predict_y)\n",
    "    f1_scores_svm.append([alpha,micro_f1_score,macro_f1_score])\n",
    "np.save('f1_scores_svm.npy',f1_scores_svm)\n",
    "\n",
    "\n"
   ]
  },
  {
   "cell_type": "code",
   "execution_count": 35,
   "id": "attached-uncle",
   "metadata": {},
   "outputs": [
    {
     "name": "stdout",
     "output_type": "stream",
     "text": [
      "for hyper parameter alpha=1e-05,\n",
      "linear svm best micro f1 score is 0.3674\n",
      "linear svm best macro f1 score is 0.4452\n"
     ]
    }
   ],
   "source": [
    "f1_scores_svm=np.load('f1_scores_svm.npy',allow_pickle=True)\n",
    "print('for hyper parameter alpha={},'.format(0.00001))\n",
    "print('linear svm best micro f1 score is {}'.format(np.round(f1_scores_svm[0][1],4)))\n",
    "print('linear svm best macro f1 score is {}'.format(np.round(f1_scores_svm[0][2],4)))"
   ]
  },
  {
   "cell_type": "markdown",
   "id": "published-reproduction",
   "metadata": {},
   "source": [
    "#### Naive_baye's method"
   ]
  },
  {
   "cell_type": "code",
   "execution_count": 166,
   "id": "expected-buddy",
   "metadata": {},
   "outputs": [
    {
     "name": "stdout",
     "output_type": "stream",
     "text": [
      "Garbage collector: collected 0 objects.\n"
     ]
    }
   ],
   "source": [
    "train_users=feature_data.iloc[0:5932188]['user_id']\n",
    "x_train=feature_data.iloc[0:5932188].drop(['user_id','product_id'],axis = 1)\n",
    "\n",
    "x_train_majority=x_train[x_train.reordered==0]\n",
    "x_train_minority=x_train[x_train.reordered==1]\n",
    "\n",
    "#https://elitedatascience.com/imbalanced-classes\n",
    "#### Upsample minority class\n",
    "x_train_minority_upsampled = resample(x_train_minority, \n",
    "                                 replace=True,     # sample with replacement\n",
    "                                 n_samples=5352199,    # to match majority class\n",
    "                                 random_state=123)\n",
    "x_train = pd.concat([x_train_majority, x_train_minority_upsampled])\n",
    "\n",
    "del x_train_majority,x_train_minority,x_train_minority_upsampled,feature_data,master_train\n",
    "\n",
    "#https://www.geeksforgeeks.org/garbage-collection-python/\n",
    "collected = gc.collect() \n",
    "print(\"Garbage collector: collected\", \n",
    "          \"%d objects.\" % collected) \n",
    "\n",
    "y_train=x_train['reordered']\n",
    "x_train.drop(['reordered'],axis=1,inplace=True)\n",
    "\n",
    "x_train=scale(x_train,axis=0)\n",
    "x_test=scale(x_test,axis=0)"
   ]
  },
  {
   "cell_type": "code",
   "execution_count": 16,
   "id": "graduate-associate",
   "metadata": {},
   "outputs": [
    {
     "data": {
      "application/vnd.jupyter.widget-view+json": {
       "model_id": "8b903e0897204b16b8f90551469f3bec",
       "version_major": 2,
       "version_minor": 0
      },
      "text/plain": [
       "  0%|          | 0/8 [00:00<?, ?it/s]"
      ]
     },
     "metadata": {},
     "output_type": "display_data"
    }
   ],
   "source": [
    "Parameter_list=[1e-9,1e-4,1e-3,1e-2,1e-1,1e0,1e1,1e2]\n",
    "\n",
    "f1_scores_naive=[]\n",
    "for alpha in tqdm(Parameter_list):\n",
    "    GB = GaussianNB(var_smoothing=alpha)\n",
    "    GB.fit(x_train, y_train)\n",
    "    y_predict_proba=GB.predict_proba(x_test)\n",
    "    micro_f1_score,macro_f1_score = measure_best_F1_score(y_predict_proba)\n",
    "    f1_scores_naive.append([alpha,micro_f1_score,macro_f1_score])\n",
    "f1_scores_naive = np.array(f1_scores_naive)\n",
    "np.save('f1_scores_naive.npy',f1_scores_naive)"
   ]
  },
  {
   "cell_type": "markdown",
   "id": "urban-balloon",
   "metadata": {},
   "source": [
    "##### Naive Baye's method with calibration"
   ]
  },
  {
   "cell_type": "code",
   "execution_count": 169,
   "id": "available-tender",
   "metadata": {},
   "outputs": [
    {
     "data": {
      "application/vnd.jupyter.widget-view+json": {
       "model_id": "341be94e1d4441dfa3ee34a8e71e13cf",
       "version_major": 2,
       "version_minor": 0
      },
      "text/plain": [
       "  0%|          | 0/1 [00:00<?, ?it/s]"
      ]
     },
     "metadata": {},
     "output_type": "display_data"
    },
    {
     "data": {
      "application/vnd.jupyter.widget-view+json": {
       "model_id": "a6bea46a03e143d7b80af33f45650e8a",
       "version_major": 2,
       "version_minor": 0
      },
      "text/plain": [
       "  0%|          | 0/39526 [00:00<?, ?it/s]"
      ]
     },
     "metadata": {},
     "output_type": "display_data"
    },
    {
     "data": {
      "application/vnd.jupyter.widget-view+json": {
       "model_id": "0f714b7cced04665ba9382b2bbf79f00",
       "version_major": 2,
       "version_minor": 0
      },
      "text/plain": [
       "  0%|          | 0/39526 [00:00<?, ?it/s]"
      ]
     },
     "metadata": {},
     "output_type": "display_data"
    }
   ],
   "source": [
    "Parameter_list=[1]\n",
    "\n",
    "f1_scores_naive=[]\n",
    "for alpha in tqdm(Parameter_list):\n",
    "    GB = GaussianNB(var_smoothing=alpha)\n",
    "    GB.fit(x_train, y_train)\n",
    "    cab_clf = CalibratedClassifierCV(GB, method=\"sigmoid\")\n",
    "    cab_clf.fit(x_train, y_train)\n",
    "    y_predict_proba=cab_clf.predict_proba(x_test)\n",
    "    micro_f1_score,macro_f1_score = measure_best_F1_score(y_predict_proba)\n",
    "    f1_scores_naive.append([alpha,micro_f1_score,macro_f1_score])\n",
    "f1_scores_naive = np.array(f1_scores_naive)\n",
    "np.save('f1_scores_naive_calibrated.npy',f1_scores_naive)"
   ]
  },
  {
   "cell_type": "code",
   "execution_count": 39,
   "id": "hollywood-moore",
   "metadata": {},
   "outputs": [
    {
     "name": "stdout",
     "output_type": "stream",
     "text": [
      "for variable smoothing hyper parameter =1,\n",
      "naive baye's best micro f1 score is 0.3092\n",
      "naive baye's best macro f1 score is 0.3997\n"
     ]
    }
   ],
   "source": [
    "f1_scores_naive=np.load('f1_scores_naive.npy',allow_pickle=True)\n",
    "print('for variable smoothing hyper parameter ={},'.format(1))\n",
    "print('naive baye\\'s best micro f1 score is {}'.format(np.round(f1_scores_naive[5][1],4)))\n",
    "print('naive baye\\'s best macro f1 score is {}'.format(np.round(f1_scores_naive[5][2],4)))"
   ]
  },
  {
   "cell_type": "code",
   "execution_count": 170,
   "id": "synthetic-welding",
   "metadata": {},
   "outputs": [
    {
     "data": {
      "text/plain": [
       "array([[1.        , 0.21508982, 0.27130971]])"
      ]
     },
     "execution_count": 170,
     "metadata": {},
     "output_type": "execute_result"
    }
   ],
   "source": [
    "f1_scores_naive"
   ]
  },
  {
   "cell_type": "markdown",
   "id": "developmental-documentary",
   "metadata": {},
   "source": [
    "##### Random Forest(bagging)"
   ]
  },
  {
   "cell_type": "code",
   "execution_count": 8,
   "id": "nasty-donna",
   "metadata": {},
   "outputs": [
    {
     "name": "stdout",
     "output_type": "stream",
     "text": [
      "Fitting 5 folds for each of 10 candidates, totalling 50 fits\n",
      "[CV 1/5; 1/10] START max_depth=5, min_samples_leaf=1, min_samples_split=4, n_estimators=500\n",
      "[CV 1/5; 1/10] END max_depth=5, min_samples_leaf=1, min_samples_split=4, n_estimators=500; total time=11.0min\n",
      "[CV 2/5; 1/10] START max_depth=5, min_samples_leaf=1, min_samples_split=4, n_estimators=500\n",
      "[CV 2/5; 1/10] END max_depth=5, min_samples_leaf=1, min_samples_split=4, n_estimators=500; total time=10.7min\n",
      "[CV 3/5; 1/10] START max_depth=5, min_samples_leaf=1, min_samples_split=4, n_estimators=500\n",
      "[CV 3/5; 1/10] END max_depth=5, min_samples_leaf=1, min_samples_split=4, n_estimators=500; total time=10.7min\n",
      "[CV 4/5; 1/10] START max_depth=5, min_samples_leaf=1, min_samples_split=4, n_estimators=500\n",
      "[CV 4/5; 1/10] END max_depth=5, min_samples_leaf=1, min_samples_split=4, n_estimators=500; total time=10.8min\n",
      "[CV 5/5; 1/10] START max_depth=5, min_samples_leaf=1, min_samples_split=4, n_estimators=500\n",
      "[CV 5/5; 1/10] END max_depth=5, min_samples_leaf=1, min_samples_split=4, n_estimators=500; total time=10.8min\n",
      "[CV 1/5; 2/10] START max_depth=5, min_samples_leaf=4, min_samples_split=2, n_estimators=50\n",
      "[CV 1/5; 2/10] END max_depth=5, min_samples_leaf=4, min_samples_split=2, n_estimators=50; total time= 1.2min\n",
      "[CV 2/5; 2/10] START max_depth=5, min_samples_leaf=4, min_samples_split=2, n_estimators=50\n",
      "[CV 2/5; 2/10] END max_depth=5, min_samples_leaf=4, min_samples_split=2, n_estimators=50; total time= 1.2min\n",
      "[CV 3/5; 2/10] START max_depth=5, min_samples_leaf=4, min_samples_split=2, n_estimators=50\n",
      "[CV 3/5; 2/10] END max_depth=5, min_samples_leaf=4, min_samples_split=2, n_estimators=50; total time= 1.2min\n",
      "[CV 4/5; 2/10] START max_depth=5, min_samples_leaf=4, min_samples_split=2, n_estimators=50\n",
      "[CV 4/5; 2/10] END max_depth=5, min_samples_leaf=4, min_samples_split=2, n_estimators=50; total time= 1.2min\n",
      "[CV 5/5; 2/10] START max_depth=5, min_samples_leaf=4, min_samples_split=2, n_estimators=50\n",
      "[CV 5/5; 2/10] END max_depth=5, min_samples_leaf=4, min_samples_split=2, n_estimators=50; total time= 1.2min\n",
      "[CV 1/5; 3/10] START max_depth=3, min_samples_leaf=4, min_samples_split=2, n_estimators=10\n",
      "[CV 1/5; 3/10] END max_depth=3, min_samples_leaf=4, min_samples_split=2, n_estimators=10; total time=  15.8s\n",
      "[CV 2/5; 3/10] START max_depth=3, min_samples_leaf=4, min_samples_split=2, n_estimators=10\n",
      "[CV 2/5; 3/10] END max_depth=3, min_samples_leaf=4, min_samples_split=2, n_estimators=10; total time=  15.3s\n",
      "[CV 3/5; 3/10] START max_depth=3, min_samples_leaf=4, min_samples_split=2, n_estimators=10\n",
      "[CV 3/5; 3/10] END max_depth=3, min_samples_leaf=4, min_samples_split=2, n_estimators=10; total time=  16.1s\n",
      "[CV 4/5; 3/10] START max_depth=3, min_samples_leaf=4, min_samples_split=2, n_estimators=10\n",
      "[CV 4/5; 3/10] END max_depth=3, min_samples_leaf=4, min_samples_split=2, n_estimators=10; total time=  16.2s\n",
      "[CV 5/5; 3/10] START max_depth=3, min_samples_leaf=4, min_samples_split=2, n_estimators=10\n",
      "[CV 5/5; 3/10] END max_depth=3, min_samples_leaf=4, min_samples_split=2, n_estimators=10; total time=  15.6s\n",
      "[CV 1/5; 4/10] START max_depth=10, min_samples_leaf=4, min_samples_split=8, n_estimators=50\n",
      "[CV 1/5; 4/10] END max_depth=10, min_samples_leaf=4, min_samples_split=8, n_estimators=50; total time= 2.2min\n",
      "[CV 2/5; 4/10] START max_depth=10, min_samples_leaf=4, min_samples_split=8, n_estimators=50\n",
      "[CV 2/5; 4/10] END max_depth=10, min_samples_leaf=4, min_samples_split=8, n_estimators=50; total time= 2.2min\n",
      "[CV 3/5; 4/10] START max_depth=10, min_samples_leaf=4, min_samples_split=8, n_estimators=50\n",
      "[CV 3/5; 4/10] END max_depth=10, min_samples_leaf=4, min_samples_split=8, n_estimators=50; total time= 2.2min\n",
      "[CV 4/5; 4/10] START max_depth=10, min_samples_leaf=4, min_samples_split=8, n_estimators=50\n",
      "[CV 4/5; 4/10] END max_depth=10, min_samples_leaf=4, min_samples_split=8, n_estimators=50; total time= 2.2min\n",
      "[CV 5/5; 4/10] START max_depth=10, min_samples_leaf=4, min_samples_split=8, n_estimators=50\n",
      "[CV 5/5; 4/10] END max_depth=10, min_samples_leaf=4, min_samples_split=8, n_estimators=50; total time= 2.2min\n",
      "[CV 1/5; 5/10] START max_depth=10, min_samples_leaf=6, min_samples_split=8, n_estimators=50\n",
      "[CV 1/5; 5/10] END max_depth=10, min_samples_leaf=6, min_samples_split=8, n_estimators=50; total time= 2.2min\n",
      "[CV 2/5; 5/10] START max_depth=10, min_samples_leaf=6, min_samples_split=8, n_estimators=50\n",
      "[CV 2/5; 5/10] END max_depth=10, min_samples_leaf=6, min_samples_split=8, n_estimators=50; total time= 2.2min\n",
      "[CV 3/5; 5/10] START max_depth=10, min_samples_leaf=6, min_samples_split=8, n_estimators=50\n",
      "[CV 3/5; 5/10] END max_depth=10, min_samples_leaf=6, min_samples_split=8, n_estimators=50; total time= 2.2min\n",
      "[CV 4/5; 5/10] START max_depth=10, min_samples_leaf=6, min_samples_split=8, n_estimators=50\n",
      "[CV 4/5; 5/10] END max_depth=10, min_samples_leaf=6, min_samples_split=8, n_estimators=50; total time= 2.2min\n",
      "[CV 5/5; 5/10] START max_depth=10, min_samples_leaf=6, min_samples_split=8, n_estimators=50\n",
      "[CV 5/5; 5/10] END max_depth=10, min_samples_leaf=6, min_samples_split=8, n_estimators=50; total time= 2.2min\n",
      "[CV 1/5; 6/10] START max_depth=3, min_samples_leaf=2, min_samples_split=8, n_estimators=10\n",
      "[CV 1/5; 6/10] END max_depth=3, min_samples_leaf=2, min_samples_split=8, n_estimators=10; total time=  16.1s\n",
      "[CV 2/5; 6/10] START max_depth=3, min_samples_leaf=2, min_samples_split=8, n_estimators=10\n",
      "[CV 2/5; 6/10] END max_depth=3, min_samples_leaf=2, min_samples_split=8, n_estimators=10; total time=  16.2s\n",
      "[CV 3/5; 6/10] START max_depth=3, min_samples_leaf=2, min_samples_split=8, n_estimators=10\n",
      "[CV 3/5; 6/10] END max_depth=3, min_samples_leaf=2, min_samples_split=8, n_estimators=10; total time=  16.3s\n",
      "[CV 4/5; 6/10] START max_depth=3, min_samples_leaf=2, min_samples_split=8, n_estimators=10\n",
      "[CV 4/5; 6/10] END max_depth=3, min_samples_leaf=2, min_samples_split=8, n_estimators=10; total time=  16.1s\n",
      "[CV 5/5; 6/10] START max_depth=3, min_samples_leaf=2, min_samples_split=8, n_estimators=10\n",
      "[CV 5/5; 6/10] END max_depth=3, min_samples_leaf=2, min_samples_split=8, n_estimators=10; total time=  15.5s\n",
      "[CV 1/5; 7/10] START max_depth=3, min_samples_leaf=2, min_samples_split=4, n_estimators=50\n",
      "[CV 1/5; 7/10] END max_depth=3, min_samples_leaf=2, min_samples_split=4, n_estimators=50; total time=  47.6s\n",
      "[CV 2/5; 7/10] START max_depth=3, min_samples_leaf=2, min_samples_split=4, n_estimators=50\n",
      "[CV 2/5; 7/10] END max_depth=3, min_samples_leaf=2, min_samples_split=4, n_estimators=50; total time=  47.9s\n",
      "[CV 3/5; 7/10] START max_depth=3, min_samples_leaf=2, min_samples_split=4, n_estimators=50\n",
      "[CV 3/5; 7/10] END max_depth=3, min_samples_leaf=2, min_samples_split=4, n_estimators=50; total time=  48.7s\n",
      "[CV 4/5; 7/10] START max_depth=3, min_samples_leaf=2, min_samples_split=4, n_estimators=50\n",
      "[CV 4/5; 7/10] END max_depth=3, min_samples_leaf=2, min_samples_split=4, n_estimators=50; total time=  47.9s\n",
      "[CV 5/5; 7/10] START max_depth=3, min_samples_leaf=2, min_samples_split=4, n_estimators=50\n",
      "[CV 5/5; 7/10] END max_depth=3, min_samples_leaf=2, min_samples_split=4, n_estimators=50; total time=  48.1s\n",
      "[CV 1/5; 8/10] START max_depth=5, min_samples_leaf=2, min_samples_split=8, n_estimators=100\n",
      "[CV 1/5; 8/10] END max_depth=5, min_samples_leaf=2, min_samples_split=8, n_estimators=100; total time= 2.3min\n",
      "[CV 2/5; 8/10] START max_depth=5, min_samples_leaf=2, min_samples_split=8, n_estimators=100\n",
      "[CV 2/5; 8/10] END max_depth=5, min_samples_leaf=2, min_samples_split=8, n_estimators=100; total time= 2.2min\n",
      "[CV 3/5; 8/10] START max_depth=5, min_samples_leaf=2, min_samples_split=8, n_estimators=100\n",
      "[CV 3/5; 8/10] END max_depth=5, min_samples_leaf=2, min_samples_split=8, n_estimators=100; total time= 2.3min\n",
      "[CV 4/5; 8/10] START max_depth=5, min_samples_leaf=2, min_samples_split=8, n_estimators=100\n",
      "[CV 4/5; 8/10] END max_depth=5, min_samples_leaf=2, min_samples_split=8, n_estimators=100; total time= 2.3min\n",
      "[CV 5/5; 8/10] START max_depth=5, min_samples_leaf=2, min_samples_split=8, n_estimators=100\n",
      "[CV 5/5; 8/10] END max_depth=5, min_samples_leaf=2, min_samples_split=8, n_estimators=100; total time= 2.3min\n",
      "[CV 1/5; 9/10] START max_depth=5, min_samples_leaf=6, min_samples_split=4, n_estimators=100\n"
     ]
    },
    {
     "name": "stdout",
     "output_type": "stream",
     "text": [
      "[CV 1/5; 9/10] END max_depth=5, min_samples_leaf=6, min_samples_split=4, n_estimators=100; total time= 2.3min\n",
      "[CV 2/5; 9/10] START max_depth=5, min_samples_leaf=6, min_samples_split=4, n_estimators=100\n",
      "[CV 2/5; 9/10] END max_depth=5, min_samples_leaf=6, min_samples_split=4, n_estimators=100; total time= 2.3min\n",
      "[CV 3/5; 9/10] START max_depth=5, min_samples_leaf=6, min_samples_split=4, n_estimators=100\n",
      "[CV 3/5; 9/10] END max_depth=5, min_samples_leaf=6, min_samples_split=4, n_estimators=100; total time= 2.2min\n",
      "[CV 4/5; 9/10] START max_depth=5, min_samples_leaf=6, min_samples_split=4, n_estimators=100\n",
      "[CV 4/5; 9/10] END max_depth=5, min_samples_leaf=6, min_samples_split=4, n_estimators=100; total time= 2.3min\n",
      "[CV 5/5; 9/10] START max_depth=5, min_samples_leaf=6, min_samples_split=4, n_estimators=100\n",
      "[CV 5/5; 9/10] END max_depth=5, min_samples_leaf=6, min_samples_split=4, n_estimators=100; total time= 2.3min\n",
      "[CV 1/5; 10/10] START max_depth=5, min_samples_leaf=6, min_samples_split=4, n_estimators=50\n",
      "[CV 1/5; 10/10] END max_depth=5, min_samples_leaf=6, min_samples_split=4, n_estimators=50; total time= 1.2min\n",
      "[CV 2/5; 10/10] START max_depth=5, min_samples_leaf=6, min_samples_split=4, n_estimators=50\n",
      "[CV 2/5; 10/10] END max_depth=5, min_samples_leaf=6, min_samples_split=4, n_estimators=50; total time= 1.2min\n",
      "[CV 3/5; 10/10] START max_depth=5, min_samples_leaf=6, min_samples_split=4, n_estimators=50\n",
      "[CV 3/5; 10/10] END max_depth=5, min_samples_leaf=6, min_samples_split=4, n_estimators=50; total time= 1.2min\n",
      "[CV 4/5; 10/10] START max_depth=5, min_samples_leaf=6, min_samples_split=4, n_estimators=50\n",
      "[CV 4/5; 10/10] END max_depth=5, min_samples_leaf=6, min_samples_split=4, n_estimators=50; total time= 1.2min\n",
      "[CV 5/5; 10/10] START max_depth=5, min_samples_leaf=6, min_samples_split=4, n_estimators=50\n",
      "[CV 5/5; 10/10] END max_depth=5, min_samples_leaf=6, min_samples_split=4, n_estimators=50; total time= 1.2min\n"
     ]
    },
    {
     "data": {
      "text/plain": [
       "RandomizedSearchCV(estimator=RandomForestClassifier(n_jobs=-1),\n",
       "                   param_distributions={'max_depth': [3, 5, 10],\n",
       "                                        'min_samples_leaf': [1, 2, 4, 6],\n",
       "                                        'min_samples_split': [2, 4, 8],\n",
       "                                        'n_estimators': [10, 50, 100, 500]},\n",
       "                   scoring='neg_log_loss', verbose=10)"
      ]
     },
     "execution_count": 8,
     "metadata": {},
     "output_type": "execute_result"
    }
   ],
   "source": [
    "R_cfl=RandomForestClassifier(n_jobs=-1)\n",
    "\n",
    "prams={\n",
    "    \n",
    "     'n_estimators':[10,50,100,500],\n",
    "     'max_depth':[3,5,10],\n",
    "    'min_samples_split':[2,4,8],\n",
    "    'min_samples_leaf':[1,2,4,6]\n",
    "}\n",
    "random_cfl=RandomizedSearchCV(R_cfl,param_distributions=prams,verbose=10,scoring='neg_log_loss',)\n",
    "random_cfl.fit(x_train,y_train)"
   ]
  },
  {
   "cell_type": "code",
   "execution_count": 150,
   "id": "solid-monroe",
   "metadata": {},
   "outputs": [],
   "source": [
    "parameters={'n_estimators': 50,\n",
    " 'min_samples_split': 8,\n",
    " 'min_samples_leaf': 4,\n",
    " 'max_depth': 10}"
   ]
  },
  {
   "cell_type": "code",
   "execution_count": 10,
   "id": "reserved-preliminary",
   "metadata": {},
   "outputs": [
    {
     "data": {
      "text/plain": [
       "{'n_estimators': 50,\n",
       " 'min_samples_split': 8,\n",
       " 'min_samples_leaf': 4,\n",
       " 'max_depth': 10}"
      ]
     },
     "execution_count": 10,
     "metadata": {},
     "output_type": "execute_result"
    }
   ],
   "source": [
    "random_cfl.best_params_"
   ]
  },
  {
   "cell_type": "code",
   "execution_count": 151,
   "id": "incomplete-savings",
   "metadata": {},
   "outputs": [],
   "source": [
    "r_cfl = RandomForestClassifier(random_state=42,n_jobs=-1,n_estimators=parameters['n_estimators'],max_depth=parameters['max_depth'],min_samples_split=parameters['min_samples_split'],min_samples_leaf=parameters['min_samples_leaf'],class_weight='balanced')\n",
    "r_cfl.fit(x_train,y_train)\n",
    "cab_clf = CalibratedClassifierCV(r_cfl, method=\"sigmoid\")\n",
    "cab_clf.fit(x_train, y_train)\n",
    "predict_y = cab_clf.predict_proba(x_test)\n"
   ]
  },
  {
   "cell_type": "code",
   "execution_count": 152,
   "id": "ambient-printing",
   "metadata": {},
   "outputs": [
    {
     "data": {
      "application/vnd.jupyter.widget-view+json": {
       "model_id": "07257cbfbb0c409f949e7d768f35212d",
       "version_major": 2,
       "version_minor": 0
      },
      "text/plain": [
       "  0%|          | 0/39526 [00:00<?, ?it/s]"
      ]
     },
     "metadata": {},
     "output_type": "display_data"
    },
    {
     "data": {
      "application/vnd.jupyter.widget-view+json": {
       "model_id": "37cfa017ece5481e8f38f93417c3e91f",
       "version_major": 2,
       "version_minor": 0
      },
      "text/plain": [
       "  0%|          | 0/39526 [00:00<?, ?it/s]"
      ]
     },
     "metadata": {},
     "output_type": "display_data"
    },
    {
     "name": "stdout",
     "output_type": "stream",
     "text": [
      "Random Forest Micro_f1_score is:  0.3781034928381353\n",
      "Random Forest Macro_f1_score is:  0.4578856060871671\n"
     ]
    }
   ],
   "source": [
    "micro_f1_score,macro_f1_score = measure_best_F1_score(predict_y)\n",
    "print('Random Forest Micro_f1_score is: ',micro_f1_score)\n",
    "print('Random Forest Macro_f1_score is: ',macro_f1_score)"
   ]
  },
  {
   "cell_type": "markdown",
   "id": "focal-console",
   "metadata": {},
   "source": [
    "### XGBoost"
   ]
  },
  {
   "cell_type": "code",
   "execution_count": 9,
   "id": "foreign-edmonton",
   "metadata": {},
   "outputs": [
    {
     "name": "stdout",
     "output_type": "stream",
     "text": [
      "Fitting 5 folds for each of 10 candidates, totalling 50 fits\n",
      "[CV 1/5; 1/10] START colsample_bytree=0.1, learning_rate=0.05, max_depth=3, n_estimators=200, subsample=0.5\n",
      "[CV 1/5; 1/10] END colsample_bytree=0.1, learning_rate=0.05, max_depth=3, n_estimators=200, subsample=0.5; total time=  21.9s\n",
      "[CV 2/5; 1/10] START colsample_bytree=0.1, learning_rate=0.05, max_depth=3, n_estimators=200, subsample=0.5\n",
      "[CV 2/5; 1/10] END colsample_bytree=0.1, learning_rate=0.05, max_depth=3, n_estimators=200, subsample=0.5; total time=  21.8s\n",
      "[CV 3/5; 1/10] START colsample_bytree=0.1, learning_rate=0.05, max_depth=3, n_estimators=200, subsample=0.5\n",
      "[CV 3/5; 1/10] END colsample_bytree=0.1, learning_rate=0.05, max_depth=3, n_estimators=200, subsample=0.5; total time=  21.8s\n",
      "[CV 4/5; 1/10] START colsample_bytree=0.1, learning_rate=0.05, max_depth=3, n_estimators=200, subsample=0.5\n",
      "[CV 4/5; 1/10] END colsample_bytree=0.1, learning_rate=0.05, max_depth=3, n_estimators=200, subsample=0.5; total time=  21.9s\n",
      "[CV 5/5; 1/10] START colsample_bytree=0.1, learning_rate=0.05, max_depth=3, n_estimators=200, subsample=0.5\n",
      "[CV 5/5; 1/10] END colsample_bytree=0.1, learning_rate=0.05, max_depth=3, n_estimators=200, subsample=0.5; total time=  21.8s\n",
      "[CV 1/5; 2/10] START colsample_bytree=0.3, learning_rate=0.01, max_depth=10, n_estimators=10, subsample=0.5\n",
      "[CV 1/5; 2/10] END colsample_bytree=0.3, learning_rate=0.01, max_depth=10, n_estimators=10, subsample=0.5; total time=   6.7s\n",
      "[CV 2/5; 2/10] START colsample_bytree=0.3, learning_rate=0.01, max_depth=10, n_estimators=10, subsample=0.5\n",
      "[CV 2/5; 2/10] END colsample_bytree=0.3, learning_rate=0.01, max_depth=10, n_estimators=10, subsample=0.5; total time=   6.7s\n",
      "[CV 3/5; 2/10] START colsample_bytree=0.3, learning_rate=0.01, max_depth=10, n_estimators=10, subsample=0.5\n",
      "[CV 3/5; 2/10] END colsample_bytree=0.3, learning_rate=0.01, max_depth=10, n_estimators=10, subsample=0.5; total time=   6.7s\n",
      "[CV 4/5; 2/10] START colsample_bytree=0.3, learning_rate=0.01, max_depth=10, n_estimators=10, subsample=0.5\n",
      "[CV 4/5; 2/10] END colsample_bytree=0.3, learning_rate=0.01, max_depth=10, n_estimators=10, subsample=0.5; total time=   6.7s\n",
      "[CV 5/5; 2/10] START colsample_bytree=0.3, learning_rate=0.01, max_depth=10, n_estimators=10, subsample=0.5\n",
      "[CV 5/5; 2/10] END colsample_bytree=0.3, learning_rate=0.01, max_depth=10, n_estimators=10, subsample=0.5; total time=   6.7s\n",
      "[CV 1/5; 3/10] START colsample_bytree=0.1, learning_rate=0.1, max_depth=5, n_estimators=100, subsample=0.5\n",
      "[CV 1/5; 3/10] END colsample_bytree=0.1, learning_rate=0.1, max_depth=5, n_estimators=100, subsample=0.5; total time=  16.1s\n",
      "[CV 2/5; 3/10] START colsample_bytree=0.1, learning_rate=0.1, max_depth=5, n_estimators=100, subsample=0.5\n",
      "[CV 2/5; 3/10] END colsample_bytree=0.1, learning_rate=0.1, max_depth=5, n_estimators=100, subsample=0.5; total time=  16.0s\n",
      "[CV 3/5; 3/10] START colsample_bytree=0.1, learning_rate=0.1, max_depth=5, n_estimators=100, subsample=0.5\n",
      "[CV 3/5; 3/10] END colsample_bytree=0.1, learning_rate=0.1, max_depth=5, n_estimators=100, subsample=0.5; total time=  16.0s\n",
      "[CV 4/5; 3/10] START colsample_bytree=0.1, learning_rate=0.1, max_depth=5, n_estimators=100, subsample=0.5\n",
      "[CV 4/5; 3/10] END colsample_bytree=0.1, learning_rate=0.1, max_depth=5, n_estimators=100, subsample=0.5; total time=  16.0s\n",
      "[CV 5/5; 3/10] START colsample_bytree=0.1, learning_rate=0.1, max_depth=5, n_estimators=100, subsample=0.5\n",
      "[CV 5/5; 3/10] END colsample_bytree=0.1, learning_rate=0.1, max_depth=5, n_estimators=100, subsample=0.5; total time=  16.1s\n",
      "[CV 1/5; 4/10] START colsample_bytree=0.1, learning_rate=0.05, max_depth=3, n_estimators=100, subsample=0.1\n",
      "[CV 1/5; 4/10] END colsample_bytree=0.1, learning_rate=0.05, max_depth=3, n_estimators=100, subsample=0.1; total time=  10.0s\n",
      "[CV 2/5; 4/10] START colsample_bytree=0.1, learning_rate=0.05, max_depth=3, n_estimators=100, subsample=0.1\n",
      "[CV 2/5; 4/10] END colsample_bytree=0.1, learning_rate=0.05, max_depth=3, n_estimators=100, subsample=0.1; total time=  10.0s\n",
      "[CV 3/5; 4/10] START colsample_bytree=0.1, learning_rate=0.05, max_depth=3, n_estimators=100, subsample=0.1\n",
      "[CV 3/5; 4/10] END colsample_bytree=0.1, learning_rate=0.05, max_depth=3, n_estimators=100, subsample=0.1; total time=  10.1s\n",
      "[CV 4/5; 4/10] START colsample_bytree=0.1, learning_rate=0.05, max_depth=3, n_estimators=100, subsample=0.1\n",
      "[CV 4/5; 4/10] END colsample_bytree=0.1, learning_rate=0.05, max_depth=3, n_estimators=100, subsample=0.1; total time=  10.0s\n",
      "[CV 5/5; 4/10] START colsample_bytree=0.1, learning_rate=0.05, max_depth=3, n_estimators=100, subsample=0.1\n",
      "[CV 5/5; 4/10] END colsample_bytree=0.1, learning_rate=0.05, max_depth=3, n_estimators=100, subsample=0.1; total time=  10.0s\n",
      "[CV 1/5; 5/10] START colsample_bytree=0.1, learning_rate=0.03, max_depth=3, n_estimators=200, subsample=0.5\n",
      "[CV 1/5; 5/10] END colsample_bytree=0.1, learning_rate=0.03, max_depth=3, n_estimators=200, subsample=0.5; total time=  22.0s\n",
      "[CV 2/5; 5/10] START colsample_bytree=0.1, learning_rate=0.03, max_depth=3, n_estimators=200, subsample=0.5\n",
      "[CV 2/5; 5/10] END colsample_bytree=0.1, learning_rate=0.03, max_depth=3, n_estimators=200, subsample=0.5; total time=  22.1s\n",
      "[CV 3/5; 5/10] START colsample_bytree=0.1, learning_rate=0.03, max_depth=3, n_estimators=200, subsample=0.5\n",
      "[CV 3/5; 5/10] END colsample_bytree=0.1, learning_rate=0.03, max_depth=3, n_estimators=200, subsample=0.5; total time=  22.1s\n",
      "[CV 4/5; 5/10] START colsample_bytree=0.1, learning_rate=0.03, max_depth=3, n_estimators=200, subsample=0.5\n",
      "[CV 4/5; 5/10] END colsample_bytree=0.1, learning_rate=0.03, max_depth=3, n_estimators=200, subsample=0.5; total time=  22.3s\n",
      "[CV 5/5; 5/10] START colsample_bytree=0.1, learning_rate=0.03, max_depth=3, n_estimators=200, subsample=0.5\n",
      "[CV 5/5; 5/10] END colsample_bytree=0.1, learning_rate=0.03, max_depth=3, n_estimators=200, subsample=0.5; total time=  22.1s\n",
      "[CV 1/5; 6/10] START colsample_bytree=0.1, learning_rate=0.05, max_depth=5, n_estimators=50, subsample=0.3\n",
      "[CV 1/5; 6/10] END colsample_bytree=0.1, learning_rate=0.05, max_depth=5, n_estimators=50, subsample=0.3; total time=   8.2s\n",
      "[CV 2/5; 6/10] START colsample_bytree=0.1, learning_rate=0.05, max_depth=5, n_estimators=50, subsample=0.3\n",
      "[CV 2/5; 6/10] END colsample_bytree=0.1, learning_rate=0.05, max_depth=5, n_estimators=50, subsample=0.3; total time=   8.3s\n",
      "[CV 3/5; 6/10] START colsample_bytree=0.1, learning_rate=0.05, max_depth=5, n_estimators=50, subsample=0.3\n",
      "[CV 3/5; 6/10] END colsample_bytree=0.1, learning_rate=0.05, max_depth=5, n_estimators=50, subsample=0.3; total time=   8.1s\n",
      "[CV 4/5; 6/10] START colsample_bytree=0.1, learning_rate=0.05, max_depth=5, n_estimators=50, subsample=0.3\n",
      "[CV 4/5; 6/10] END colsample_bytree=0.1, learning_rate=0.05, max_depth=5, n_estimators=50, subsample=0.3; total time=   8.1s\n",
      "[CV 5/5; 6/10] START colsample_bytree=0.1, learning_rate=0.05, max_depth=5, n_estimators=50, subsample=0.3\n",
      "[CV 5/5; 6/10] END colsample_bytree=0.1, learning_rate=0.05, max_depth=5, n_estimators=50, subsample=0.3; total time=   8.2s\n",
      "[CV 1/5; 7/10] START colsample_bytree=0.5, learning_rate=0.1, max_depth=3, n_estimators=100, subsample=0.5\n",
      "[CV 1/5; 7/10] END colsample_bytree=0.5, learning_rate=0.1, max_depth=3, n_estimators=100, subsample=0.5; total time=  23.7s\n",
      "[CV 2/5; 7/10] START colsample_bytree=0.5, learning_rate=0.1, max_depth=3, n_estimators=100, subsample=0.5\n",
      "[CV 2/5; 7/10] END colsample_bytree=0.5, learning_rate=0.1, max_depth=3, n_estimators=100, subsample=0.5; total time=  23.4s\n",
      "[CV 3/5; 7/10] START colsample_bytree=0.5, learning_rate=0.1, max_depth=3, n_estimators=100, subsample=0.5\n",
      "[CV 3/5; 7/10] END colsample_bytree=0.5, learning_rate=0.1, max_depth=3, n_estimators=100, subsample=0.5; total time=  23.4s\n",
      "[CV 4/5; 7/10] START colsample_bytree=0.5, learning_rate=0.1, max_depth=3, n_estimators=100, subsample=0.5\n",
      "[CV 4/5; 7/10] END colsample_bytree=0.5, learning_rate=0.1, max_depth=3, n_estimators=100, subsample=0.5; total time=  23.3s\n",
      "[CV 5/5; 7/10] START colsample_bytree=0.5, learning_rate=0.1, max_depth=3, n_estimators=100, subsample=0.5\n",
      "[CV 5/5; 7/10] END colsample_bytree=0.5, learning_rate=0.1, max_depth=3, n_estimators=100, subsample=0.5; total time=  23.4s\n",
      "[CV 1/5; 8/10] START colsample_bytree=0.3, learning_rate=0.1, max_depth=10, n_estimators=200, subsample=0.5\n"
     ]
    },
    {
     "name": "stdout",
     "output_type": "stream",
     "text": [
      "[CV 1/5; 8/10] END colsample_bytree=0.3, learning_rate=0.1, max_depth=10, n_estimators=200, subsample=0.5; total time= 1.8min\n",
      "[CV 2/5; 8/10] START colsample_bytree=0.3, learning_rate=0.1, max_depth=10, n_estimators=200, subsample=0.5\n",
      "[CV 2/5; 8/10] END colsample_bytree=0.3, learning_rate=0.1, max_depth=10, n_estimators=200, subsample=0.5; total time= 1.8min\n",
      "[CV 3/5; 8/10] START colsample_bytree=0.3, learning_rate=0.1, max_depth=10, n_estimators=200, subsample=0.5\n",
      "[CV 3/5; 8/10] END colsample_bytree=0.3, learning_rate=0.1, max_depth=10, n_estimators=200, subsample=0.5; total time= 1.8min\n",
      "[CV 4/5; 8/10] START colsample_bytree=0.3, learning_rate=0.1, max_depth=10, n_estimators=200, subsample=0.5\n",
      "[CV 4/5; 8/10] END colsample_bytree=0.3, learning_rate=0.1, max_depth=10, n_estimators=200, subsample=0.5; total time= 1.8min\n",
      "[CV 5/5; 8/10] START colsample_bytree=0.3, learning_rate=0.1, max_depth=10, n_estimators=200, subsample=0.5\n",
      "[CV 5/5; 8/10] END colsample_bytree=0.3, learning_rate=0.1, max_depth=10, n_estimators=200, subsample=0.5; total time= 1.8min\n",
      "[CV 1/5; 9/10] START colsample_bytree=1, learning_rate=0.03, max_depth=3, n_estimators=50, subsample=0.1\n",
      "[CV 1/5; 9/10] END colsample_bytree=1, learning_rate=0.03, max_depth=3, n_estimators=50, subsample=0.1; total time=  13.9s\n",
      "[CV 2/5; 9/10] START colsample_bytree=1, learning_rate=0.03, max_depth=3, n_estimators=50, subsample=0.1\n",
      "[CV 2/5; 9/10] END colsample_bytree=1, learning_rate=0.03, max_depth=3, n_estimators=50, subsample=0.1; total time=  13.9s\n",
      "[CV 3/5; 9/10] START colsample_bytree=1, learning_rate=0.03, max_depth=3, n_estimators=50, subsample=0.1\n",
      "[CV 3/5; 9/10] END colsample_bytree=1, learning_rate=0.03, max_depth=3, n_estimators=50, subsample=0.1; total time=  14.1s\n",
      "[CV 4/5; 9/10] START colsample_bytree=1, learning_rate=0.03, max_depth=3, n_estimators=50, subsample=0.1\n",
      "[CV 4/5; 9/10] END colsample_bytree=1, learning_rate=0.03, max_depth=3, n_estimators=50, subsample=0.1; total time=  14.1s\n",
      "[CV 5/5; 9/10] START colsample_bytree=1, learning_rate=0.03, max_depth=3, n_estimators=50, subsample=0.1\n",
      "[CV 5/5; 9/10] END colsample_bytree=1, learning_rate=0.03, max_depth=3, n_estimators=50, subsample=0.1; total time=  14.0s\n",
      "[CV 1/5; 10/10] START colsample_bytree=0.5, learning_rate=0.01, max_depth=5, n_estimators=200, subsample=1\n",
      "[CV 1/5; 10/10] END colsample_bytree=0.5, learning_rate=0.01, max_depth=5, n_estimators=200, subsample=1; total time= 1.0min\n",
      "[CV 2/5; 10/10] START colsample_bytree=0.5, learning_rate=0.01, max_depth=5, n_estimators=200, subsample=1\n",
      "[CV 2/5; 10/10] END colsample_bytree=0.5, learning_rate=0.01, max_depth=5, n_estimators=200, subsample=1; total time= 1.1min\n",
      "[CV 3/5; 10/10] START colsample_bytree=0.5, learning_rate=0.01, max_depth=5, n_estimators=200, subsample=1\n",
      "[CV 3/5; 10/10] END colsample_bytree=0.5, learning_rate=0.01, max_depth=5, n_estimators=200, subsample=1; total time= 1.1min\n",
      "[CV 4/5; 10/10] START colsample_bytree=0.5, learning_rate=0.01, max_depth=5, n_estimators=200, subsample=1\n",
      "[CV 4/5; 10/10] END colsample_bytree=0.5, learning_rate=0.01, max_depth=5, n_estimators=200, subsample=1; total time= 1.1min\n",
      "[CV 5/5; 10/10] START colsample_bytree=0.5, learning_rate=0.01, max_depth=5, n_estimators=200, subsample=1\n",
      "[CV 5/5; 10/10] END colsample_bytree=0.5, learning_rate=0.01, max_depth=5, n_estimators=200, subsample=1; total time= 1.0min\n"
     ]
    },
    {
     "data": {
      "text/plain": [
       "RandomizedSearchCV(estimator=XGBClassifier(base_score=None, booster=None,\n",
       "                                           colsample_bylevel=None,\n",
       "                                           colsample_bynode=None,\n",
       "                                           colsample_bytree=None,\n",
       "                                           eval_metric='logloss', gamma=None,\n",
       "                                           gpu_id=None, importance_type='gain',\n",
       "                                           interaction_constraints=None,\n",
       "                                           learning_rate=None,\n",
       "                                           max_delta_step=None, max_depth=None,\n",
       "                                           min_child_weight=None, missing=nan,\n",
       "                                           monotone_constraints=None,...\n",
       "                                           random_state=None, reg_alpha=None,\n",
       "                                           reg_lambda=None,\n",
       "                                           scale_pos_weight=None,\n",
       "                                           subsample=None, tree_method=None,\n",
       "                                           use_label_encoder=False,\n",
       "                                           validate_parameters=None,\n",
       "                                           verbosity=None),\n",
       "                   param_distributions={'colsample_bytree': [0.1, 0.3, 0.5, 1],\n",
       "                                        'learning_rate': [0.01, 0.03, 0.05,\n",
       "                                                          0.1],\n",
       "                                        'max_depth': [3, 5, 10],\n",
       "                                        'n_estimators': [10, 50, 100, 200],\n",
       "                                        'subsample': [0.1, 0.3, 0.5, 1]},\n",
       "                   scoring='neg_log_loss', verbose=10)"
      ]
     },
     "execution_count": 9,
     "metadata": {},
     "output_type": "execute_result"
    }
   ],
   "source": [
    "x_cfl=xgb.XGBClassifier(n_jobs=-1,use_label_encoder =False,eval_metric ='logloss')\n",
    "\n",
    "prams={\n",
    "    'learning_rate':[0.01,0.03,0.05,0.1],\n",
    "     'n_estimators':[10,50,100,200],\n",
    "     'max_depth':[3,5,10],\n",
    "    'colsample_bytree':[0.1,0.3,0.5,1],\n",
    "    'subsample':[0.1,0.3,0.5,1]\n",
    "}\n",
    "xgb_cfl=RandomizedSearchCV(x_cfl,param_distributions=prams,verbose=10,scoring='neg_log_loss',)\n",
    "xgb_cfl.fit(x_train.iloc[0:1000000],y_train.iloc[0:1000000])"
   ]
  },
  {
   "cell_type": "code",
   "execution_count": 10,
   "id": "presidential-ranch",
   "metadata": {},
   "outputs": [],
   "source": [
    "parameters=xgb_cfl.best_params_"
   ]
  },
  {
   "cell_type": "code",
   "execution_count": 13,
   "id": "pending-interference",
   "metadata": {},
   "outputs": [],
   "source": [
    "parameters={'subsample': 0.5,\n",
    " 'n_estimators': 100,\n",
    " 'max_depth': 5,\n",
    " 'learning_rate': 0.1,\n",
    " 'colsample_bytree': 0.1}"
   ]
  },
  {
   "cell_type": "code",
   "execution_count": 14,
   "id": "textile-lighter",
   "metadata": {},
   "outputs": [],
   "source": [
    "x_cfl = xgb.XGBClassifier(random_state=42,use_label_encoder =False,eval_metric ='logloss',n_jobs=-1,learning_rate=parameters['learning_rate'],subsample=parameters['subsample'],n_estimators=parameters['n_estimators'],max_depth=parameters['max_depth'],colsample_bytree=parameters['colsample_bytree'],scale_pos_weight=9)\n",
    "x_cfl.fit(x_train,y_train)\n",
    "cab_clf = CalibratedClassifierCV(x_cfl, method=\"sigmoid\")\n",
    "cab_clf.fit(x_train, y_train)\n",
    "predict_y = cab_clf.predict_proba(x_test)"
   ]
  },
  {
   "cell_type": "code",
   "execution_count": 15,
   "id": "operational-acoustic",
   "metadata": {},
   "outputs": [
    {
     "data": {
      "application/vnd.jupyter.widget-view+json": {
       "model_id": "4e86ff2195714a81885a1417d597861c",
       "version_major": 2,
       "version_minor": 0
      },
      "text/plain": [
       "  0%|          | 0/39526 [00:00<?, ?it/s]"
      ]
     },
     "metadata": {},
     "output_type": "display_data"
    },
    {
     "data": {
      "application/vnd.jupyter.widget-view+json": {
       "model_id": "84d1164935da4689aefab312aced2f4e",
       "version_major": 2,
       "version_minor": 0
      },
      "text/plain": [
       "  0%|          | 0/39526 [00:00<?, ?it/s]"
      ]
     },
     "metadata": {},
     "output_type": "display_data"
    },
    {
     "name": "stdout",
     "output_type": "stream",
     "text": [
      "xgboost Micro_f1_score is:  0.3779000344530819\n",
      "xgboost Macro_f1_score is:  0.4561166247495505\n"
     ]
    }
   ],
   "source": [
    "micro_f1_score,macro_f1_score = measure_best_F1_score(predict_y)\n",
    "\n",
    "print('xgboost Micro_f1_score is: ',micro_f1_score)\n",
    "print('xgboost Macro_f1_score is: ',macro_f1_score)"
   ]
  },
  {
   "cell_type": "markdown",
   "id": "neither-affect",
   "metadata": {},
   "source": [
    "###  light gbm model and hyper tuning"
   ]
  },
  {
   "cell_type": "code",
   "execution_count": 5,
   "id": "fourth-hobby",
   "metadata": {},
   "outputs": [
    {
     "name": "stdout",
     "output_type": "stream",
     "text": [
      "Fitting 5 folds for each of 10 candidates, totalling 50 fits\n",
      "[CV 1/5; 1/10] START colsample_bytree=0.3, learning_rate=0.15, max_depth=-1, min_child_samples=10, min_child_weight=0.001, n_estimators=500, num_leaves=30, subsample=0.5, subsample_for_bin=100000, subsample_freq=0\n",
      "[CV 1/5; 1/10] END colsample_bytree=0.3, learning_rate=0.15, max_depth=-1, min_child_samples=10, min_child_weight=0.001, n_estimators=500, num_leaves=30, subsample=0.5, subsample_for_bin=100000, subsample_freq=0; total time= 1.9min\n",
      "[CV 2/5; 1/10] START colsample_bytree=0.3, learning_rate=0.15, max_depth=-1, min_child_samples=10, min_child_weight=0.001, n_estimators=500, num_leaves=30, subsample=0.5, subsample_for_bin=100000, subsample_freq=0\n",
      "[CV 2/5; 1/10] END colsample_bytree=0.3, learning_rate=0.15, max_depth=-1, min_child_samples=10, min_child_weight=0.001, n_estimators=500, num_leaves=30, subsample=0.5, subsample_for_bin=100000, subsample_freq=0; total time= 1.9min\n",
      "[CV 3/5; 1/10] START colsample_bytree=0.3, learning_rate=0.15, max_depth=-1, min_child_samples=10, min_child_weight=0.001, n_estimators=500, num_leaves=30, subsample=0.5, subsample_for_bin=100000, subsample_freq=0\n",
      "[CV 3/5; 1/10] END colsample_bytree=0.3, learning_rate=0.15, max_depth=-1, min_child_samples=10, min_child_weight=0.001, n_estimators=500, num_leaves=30, subsample=0.5, subsample_for_bin=100000, subsample_freq=0; total time= 1.9min\n",
      "[CV 4/5; 1/10] START colsample_bytree=0.3, learning_rate=0.15, max_depth=-1, min_child_samples=10, min_child_weight=0.001, n_estimators=500, num_leaves=30, subsample=0.5, subsample_for_bin=100000, subsample_freq=0\n",
      "[CV 4/5; 1/10] END colsample_bytree=0.3, learning_rate=0.15, max_depth=-1, min_child_samples=10, min_child_weight=0.001, n_estimators=500, num_leaves=30, subsample=0.5, subsample_for_bin=100000, subsample_freq=0; total time= 2.0min\n",
      "[CV 5/5; 1/10] START colsample_bytree=0.3, learning_rate=0.15, max_depth=-1, min_child_samples=10, min_child_weight=0.001, n_estimators=500, num_leaves=30, subsample=0.5, subsample_for_bin=100000, subsample_freq=0\n",
      "[CV 5/5; 1/10] END colsample_bytree=0.3, learning_rate=0.15, max_depth=-1, min_child_samples=10, min_child_weight=0.001, n_estimators=500, num_leaves=30, subsample=0.5, subsample_for_bin=100000, subsample_freq=0; total time= 1.9min\n",
      "[CV 1/5; 2/10] START colsample_bytree=0.1, learning_rate=0.15, max_depth=10, min_child_samples=50, min_child_weight=0.0001, n_estimators=50, num_leaves=500, subsample=0.1, subsample_for_bin=400000, subsample_freq=1\n",
      "[CV 1/5; 2/10] END colsample_bytree=0.1, learning_rate=0.15, max_depth=10, min_child_samples=50, min_child_weight=0.0001, n_estimators=50, num_leaves=500, subsample=0.1, subsample_for_bin=400000, subsample_freq=1; total time=  27.9s\n",
      "[CV 2/5; 2/10] START colsample_bytree=0.1, learning_rate=0.15, max_depth=10, min_child_samples=50, min_child_weight=0.0001, n_estimators=50, num_leaves=500, subsample=0.1, subsample_for_bin=400000, subsample_freq=1\n",
      "[CV 2/5; 2/10] END colsample_bytree=0.1, learning_rate=0.15, max_depth=10, min_child_samples=50, min_child_weight=0.0001, n_estimators=50, num_leaves=500, subsample=0.1, subsample_for_bin=400000, subsample_freq=1; total time=  27.3s\n",
      "[CV 3/5; 2/10] START colsample_bytree=0.1, learning_rate=0.15, max_depth=10, min_child_samples=50, min_child_weight=0.0001, n_estimators=50, num_leaves=500, subsample=0.1, subsample_for_bin=400000, subsample_freq=1\n",
      "[CV 3/5; 2/10] END colsample_bytree=0.1, learning_rate=0.15, max_depth=10, min_child_samples=50, min_child_weight=0.0001, n_estimators=50, num_leaves=500, subsample=0.1, subsample_for_bin=400000, subsample_freq=1; total time=  27.3s\n",
      "[CV 4/5; 2/10] START colsample_bytree=0.1, learning_rate=0.15, max_depth=10, min_child_samples=50, min_child_weight=0.0001, n_estimators=50, num_leaves=500, subsample=0.1, subsample_for_bin=400000, subsample_freq=1\n",
      "[CV 4/5; 2/10] END colsample_bytree=0.1, learning_rate=0.15, max_depth=10, min_child_samples=50, min_child_weight=0.0001, n_estimators=50, num_leaves=500, subsample=0.1, subsample_for_bin=400000, subsample_freq=1; total time=  27.5s\n",
      "[CV 5/5; 2/10] START colsample_bytree=0.1, learning_rate=0.15, max_depth=10, min_child_samples=50, min_child_weight=0.0001, n_estimators=50, num_leaves=500, subsample=0.1, subsample_for_bin=400000, subsample_freq=1\n",
      "[CV 5/5; 2/10] END colsample_bytree=0.1, learning_rate=0.15, max_depth=10, min_child_samples=50, min_child_weight=0.0001, n_estimators=50, num_leaves=500, subsample=0.1, subsample_for_bin=400000, subsample_freq=1; total time=  27.7s\n",
      "[CV 1/5; 3/10] START colsample_bytree=0.3, learning_rate=0.1, max_depth=10, min_child_samples=5, min_child_weight=0.001, n_estimators=100, num_leaves=25, subsample=0.5, subsample_for_bin=10, subsample_freq=0\n",
      "[CV 1/5; 3/10] END colsample_bytree=0.3, learning_rate=0.1, max_depth=10, min_child_samples=5, min_child_weight=0.001, n_estimators=100, num_leaves=25, subsample=0.5, subsample_for_bin=10, subsample_freq=0; total time=  33.5s\n",
      "[CV 2/5; 3/10] START colsample_bytree=0.3, learning_rate=0.1, max_depth=10, min_child_samples=5, min_child_weight=0.001, n_estimators=100, num_leaves=25, subsample=0.5, subsample_for_bin=10, subsample_freq=0\n",
      "[CV 2/5; 3/10] END colsample_bytree=0.3, learning_rate=0.1, max_depth=10, min_child_samples=5, min_child_weight=0.001, n_estimators=100, num_leaves=25, subsample=0.5, subsample_for_bin=10, subsample_freq=0; total time=  33.3s\n",
      "[CV 3/5; 3/10] START colsample_bytree=0.3, learning_rate=0.1, max_depth=10, min_child_samples=5, min_child_weight=0.001, n_estimators=100, num_leaves=25, subsample=0.5, subsample_for_bin=10, subsample_freq=0\n",
      "[CV 3/5; 3/10] END colsample_bytree=0.3, learning_rate=0.1, max_depth=10, min_child_samples=5, min_child_weight=0.001, n_estimators=100, num_leaves=25, subsample=0.5, subsample_for_bin=10, subsample_freq=0; total time=  31.1s\n",
      "[CV 4/5; 3/10] START colsample_bytree=0.3, learning_rate=0.1, max_depth=10, min_child_samples=5, min_child_weight=0.001, n_estimators=100, num_leaves=25, subsample=0.5, subsample_for_bin=10, subsample_freq=0\n",
      "[CV 4/5; 3/10] END colsample_bytree=0.3, learning_rate=0.1, max_depth=10, min_child_samples=5, min_child_weight=0.001, n_estimators=100, num_leaves=25, subsample=0.5, subsample_for_bin=10, subsample_freq=0; total time=  32.0s\n",
      "[CV 5/5; 3/10] START colsample_bytree=0.3, learning_rate=0.1, max_depth=10, min_child_samples=5, min_child_weight=0.001, n_estimators=100, num_leaves=25, subsample=0.5, subsample_for_bin=10, subsample_freq=0\n",
      "[CV 5/5; 3/10] END colsample_bytree=0.3, learning_rate=0.1, max_depth=10, min_child_samples=5, min_child_weight=0.001, n_estimators=100, num_leaves=25, subsample=0.5, subsample_for_bin=10, subsample_freq=0; total time=  31.8s\n",
      "[CV 1/5; 4/10] START colsample_bytree=0.1, learning_rate=0.2, max_depth=-1, min_child_samples=50, min_child_weight=0.0001, n_estimators=500, num_leaves=25, subsample=0.3, subsample_for_bin=10, subsample_freq=1\n",
      "[CV 1/5; 4/10] END colsample_bytree=0.1, learning_rate=0.2, max_depth=-1, min_child_samples=50, min_child_weight=0.0001, n_estimators=500, num_leaves=25, subsample=0.3, subsample_for_bin=10, subsample_freq=1; total time= 1.2min\n",
      "[CV 2/5; 4/10] START colsample_bytree=0.1, learning_rate=0.2, max_depth=-1, min_child_samples=50, min_child_weight=0.0001, n_estimators=500, num_leaves=25, subsample=0.3, subsample_for_bin=10, subsample_freq=1\n",
      "[CV 2/5; 4/10] END colsample_bytree=0.1, learning_rate=0.2, max_depth=-1, min_child_samples=50, min_child_weight=0.0001, n_estimators=500, num_leaves=25, subsample=0.3, subsample_for_bin=10, subsample_freq=1; total time= 1.5min\n",
      "[CV 3/5; 4/10] START colsample_bytree=0.1, learning_rate=0.2, max_depth=-1, min_child_samples=50, min_child_weight=0.0001, n_estimators=500, num_leaves=25, subsample=0.3, subsample_for_bin=10, subsample_freq=1\n",
      "[CV 3/5; 4/10] END colsample_bytree=0.1, learning_rate=0.2, max_depth=-1, min_child_samples=50, min_child_weight=0.0001, n_estimators=500, num_leaves=25, subsample=0.3, subsample_for_bin=10, subsample_freq=1; total time= 1.5min\n",
      "[CV 4/5; 4/10] START colsample_bytree=0.1, learning_rate=0.2, max_depth=-1, min_child_samples=50, min_child_weight=0.0001, n_estimators=500, num_leaves=25, subsample=0.3, subsample_for_bin=10, subsample_freq=1\n"
     ]
    },
    {
     "name": "stdout",
     "output_type": "stream",
     "text": [
      "[CV 4/5; 4/10] END colsample_bytree=0.1, learning_rate=0.2, max_depth=-1, min_child_samples=50, min_child_weight=0.0001, n_estimators=500, num_leaves=25, subsample=0.3, subsample_for_bin=10, subsample_freq=1; total time= 1.4min\n",
      "[CV 5/5; 4/10] START colsample_bytree=0.1, learning_rate=0.2, max_depth=-1, min_child_samples=50, min_child_weight=0.0001, n_estimators=500, num_leaves=25, subsample=0.3, subsample_for_bin=10, subsample_freq=1\n",
      "[CV 5/5; 4/10] END colsample_bytree=0.1, learning_rate=0.2, max_depth=-1, min_child_samples=50, min_child_weight=0.0001, n_estimators=500, num_leaves=25, subsample=0.3, subsample_for_bin=10, subsample_freq=1; total time= 1.5min\n",
      "[CV 1/5; 5/10] START colsample_bytree=0.5, learning_rate=0.05, max_depth=10, min_child_samples=50, min_child_weight=0.001, n_estimators=100, num_leaves=25, subsample=0.1, subsample_for_bin=10, subsample_freq=2\n",
      "[CV 1/5; 5/10] END colsample_bytree=0.5, learning_rate=0.05, max_depth=10, min_child_samples=50, min_child_weight=0.001, n_estimators=100, num_leaves=25, subsample=0.1, subsample_for_bin=10, subsample_freq=2; total time=  21.4s\n",
      "[CV 2/5; 5/10] START colsample_bytree=0.5, learning_rate=0.05, max_depth=10, min_child_samples=50, min_child_weight=0.001, n_estimators=100, num_leaves=25, subsample=0.1, subsample_for_bin=10, subsample_freq=2\n",
      "[CV 2/5; 5/10] END colsample_bytree=0.5, learning_rate=0.05, max_depth=10, min_child_samples=50, min_child_weight=0.001, n_estimators=100, num_leaves=25, subsample=0.1, subsample_for_bin=10, subsample_freq=2; total time=  22.5s\n",
      "[CV 3/5; 5/10] START colsample_bytree=0.5, learning_rate=0.05, max_depth=10, min_child_samples=50, min_child_weight=0.001, n_estimators=100, num_leaves=25, subsample=0.1, subsample_for_bin=10, subsample_freq=2\n",
      "[CV 3/5; 5/10] END colsample_bytree=0.5, learning_rate=0.05, max_depth=10, min_child_samples=50, min_child_weight=0.001, n_estimators=100, num_leaves=25, subsample=0.1, subsample_for_bin=10, subsample_freq=2; total time=  22.2s\n",
      "[CV 4/5; 5/10] START colsample_bytree=0.5, learning_rate=0.05, max_depth=10, min_child_samples=50, min_child_weight=0.001, n_estimators=100, num_leaves=25, subsample=0.1, subsample_for_bin=10, subsample_freq=2\n",
      "[CV 4/5; 5/10] END colsample_bytree=0.5, learning_rate=0.05, max_depth=10, min_child_samples=50, min_child_weight=0.001, n_estimators=100, num_leaves=25, subsample=0.1, subsample_for_bin=10, subsample_freq=2; total time=  22.3s\n",
      "[CV 5/5; 5/10] START colsample_bytree=0.5, learning_rate=0.05, max_depth=10, min_child_samples=50, min_child_weight=0.001, n_estimators=100, num_leaves=25, subsample=0.1, subsample_for_bin=10, subsample_freq=2\n",
      "[CV 5/5; 5/10] END colsample_bytree=0.5, learning_rate=0.05, max_depth=10, min_child_samples=50, min_child_weight=0.001, n_estimators=100, num_leaves=25, subsample=0.1, subsample_for_bin=10, subsample_freq=2; total time=  22.5s\n",
      "[CV 1/5; 6/10] START colsample_bytree=0.5, learning_rate=0.1, max_depth=5, min_child_samples=10, min_child_weight=0.001, n_estimators=1000, num_leaves=100, subsample=0.5, subsample_for_bin=100000, subsample_freq=2\n",
      "[CV 1/5; 6/10] END colsample_bytree=0.5, learning_rate=0.1, max_depth=5, min_child_samples=10, min_child_weight=0.001, n_estimators=1000, num_leaves=100, subsample=0.5, subsample_for_bin=100000, subsample_freq=2; total time= 5.6min\n",
      "[CV 2/5; 6/10] START colsample_bytree=0.5, learning_rate=0.1, max_depth=5, min_child_samples=10, min_child_weight=0.001, n_estimators=1000, num_leaves=100, subsample=0.5, subsample_for_bin=100000, subsample_freq=2\n",
      "[CV 2/5; 6/10] END colsample_bytree=0.5, learning_rate=0.1, max_depth=5, min_child_samples=10, min_child_weight=0.001, n_estimators=1000, num_leaves=100, subsample=0.5, subsample_for_bin=100000, subsample_freq=2; total time= 5.6min\n",
      "[CV 3/5; 6/10] START colsample_bytree=0.5, learning_rate=0.1, max_depth=5, min_child_samples=10, min_child_weight=0.001, n_estimators=1000, num_leaves=100, subsample=0.5, subsample_for_bin=100000, subsample_freq=2\n",
      "[CV 3/5; 6/10] END colsample_bytree=0.5, learning_rate=0.1, max_depth=5, min_child_samples=10, min_child_weight=0.001, n_estimators=1000, num_leaves=100, subsample=0.5, subsample_for_bin=100000, subsample_freq=2; total time= 5.6min\n",
      "[CV 4/5; 6/10] START colsample_bytree=0.5, learning_rate=0.1, max_depth=5, min_child_samples=10, min_child_weight=0.001, n_estimators=1000, num_leaves=100, subsample=0.5, subsample_for_bin=100000, subsample_freq=2\n",
      "[CV 4/5; 6/10] END colsample_bytree=0.5, learning_rate=0.1, max_depth=5, min_child_samples=10, min_child_weight=0.001, n_estimators=1000, num_leaves=100, subsample=0.5, subsample_for_bin=100000, subsample_freq=2; total time= 5.6min\n",
      "[CV 5/5; 6/10] START colsample_bytree=0.5, learning_rate=0.1, max_depth=5, min_child_samples=10, min_child_weight=0.001, n_estimators=1000, num_leaves=100, subsample=0.5, subsample_for_bin=100000, subsample_freq=2\n",
      "[CV 5/5; 6/10] END colsample_bytree=0.5, learning_rate=0.1, max_depth=5, min_child_samples=10, min_child_weight=0.001, n_estimators=1000, num_leaves=100, subsample=0.5, subsample_for_bin=100000, subsample_freq=2; total time= 5.6min\n",
      "[CV 1/5; 7/10] START colsample_bytree=1, learning_rate=0.05, max_depth=5, min_child_samples=10, min_child_weight=0.001, n_estimators=1500, num_leaves=25, subsample=0.1, subsample_for_bin=200000, subsample_freq=0\n",
      "[CV 1/5; 7/10] END colsample_bytree=1, learning_rate=0.05, max_depth=5, min_child_samples=10, min_child_weight=0.001, n_estimators=1500, num_leaves=25, subsample=0.1, subsample_for_bin=200000, subsample_freq=0; total time= 4.6min\n",
      "[CV 2/5; 7/10] START colsample_bytree=1, learning_rate=0.05, max_depth=5, min_child_samples=10, min_child_weight=0.001, n_estimators=1500, num_leaves=25, subsample=0.1, subsample_for_bin=200000, subsample_freq=0\n",
      "[CV 2/5; 7/10] END colsample_bytree=1, learning_rate=0.05, max_depth=5, min_child_samples=10, min_child_weight=0.001, n_estimators=1500, num_leaves=25, subsample=0.1, subsample_for_bin=200000, subsample_freq=0; total time= 4.6min\n",
      "[CV 3/5; 7/10] START colsample_bytree=1, learning_rate=0.05, max_depth=5, min_child_samples=10, min_child_weight=0.001, n_estimators=1500, num_leaves=25, subsample=0.1, subsample_for_bin=200000, subsample_freq=0\n",
      "[CV 3/5; 7/10] END colsample_bytree=1, learning_rate=0.05, max_depth=5, min_child_samples=10, min_child_weight=0.001, n_estimators=1500, num_leaves=25, subsample=0.1, subsample_for_bin=200000, subsample_freq=0; total time= 4.5min\n",
      "[CV 4/5; 7/10] START colsample_bytree=1, learning_rate=0.05, max_depth=5, min_child_samples=10, min_child_weight=0.001, n_estimators=1500, num_leaves=25, subsample=0.1, subsample_for_bin=200000, subsample_freq=0\n",
      "[CV 4/5; 7/10] END colsample_bytree=1, learning_rate=0.05, max_depth=5, min_child_samples=10, min_child_weight=0.001, n_estimators=1500, num_leaves=25, subsample=0.1, subsample_for_bin=200000, subsample_freq=0; total time= 4.6min\n",
      "[CV 5/5; 7/10] START colsample_bytree=1, learning_rate=0.05, max_depth=5, min_child_samples=10, min_child_weight=0.001, n_estimators=1500, num_leaves=25, subsample=0.1, subsample_for_bin=200000, subsample_freq=0\n",
      "[CV 5/5; 7/10] END colsample_bytree=1, learning_rate=0.05, max_depth=5, min_child_samples=10, min_child_weight=0.001, n_estimators=1500, num_leaves=25, subsample=0.1, subsample_for_bin=200000, subsample_freq=0; total time= 4.6min\n",
      "[CV 1/5; 8/10] START colsample_bytree=0.3, learning_rate=0.15, max_depth=10, min_child_samples=20, min_child_weight=0.1, n_estimators=500, num_leaves=30, subsample=0.5, subsample_for_bin=10, subsample_freq=0\n",
      "[CV 1/5; 8/10] END colsample_bytree=0.3, learning_rate=0.15, max_depth=10, min_child_samples=20, min_child_weight=0.1, n_estimators=500, num_leaves=30, subsample=0.5, subsample_for_bin=10, subsample_freq=0; total time= 1.6min\n",
      "[CV 2/5; 8/10] START colsample_bytree=0.3, learning_rate=0.15, max_depth=10, min_child_samples=20, min_child_weight=0.1, n_estimators=500, num_leaves=30, subsample=0.5, subsample_for_bin=10, subsample_freq=0\n",
      "[CV 2/5; 8/10] END colsample_bytree=0.3, learning_rate=0.15, max_depth=10, min_child_samples=20, min_child_weight=0.1, n_estimators=500, num_leaves=30, subsample=0.5, subsample_for_bin=10, subsample_freq=0; total time= 1.5min\n",
      "[CV 3/5; 8/10] START colsample_bytree=0.3, learning_rate=0.15, max_depth=10, min_child_samples=20, min_child_weight=0.1, n_estimators=500, num_leaves=30, subsample=0.5, subsample_for_bin=10, subsample_freq=0\n"
     ]
    },
    {
     "name": "stdout",
     "output_type": "stream",
     "text": [
      "[CV 3/5; 8/10] END colsample_bytree=0.3, learning_rate=0.15, max_depth=10, min_child_samples=20, min_child_weight=0.1, n_estimators=500, num_leaves=30, subsample=0.5, subsample_for_bin=10, subsample_freq=0; total time= 1.5min\n",
      "[CV 4/5; 8/10] START colsample_bytree=0.3, learning_rate=0.15, max_depth=10, min_child_samples=20, min_child_weight=0.1, n_estimators=500, num_leaves=30, subsample=0.5, subsample_for_bin=10, subsample_freq=0\n",
      "[CV 4/5; 8/10] END colsample_bytree=0.3, learning_rate=0.15, max_depth=10, min_child_samples=20, min_child_weight=0.1, n_estimators=500, num_leaves=30, subsample=0.5, subsample_for_bin=10, subsample_freq=0; total time= 1.6min\n",
      "[CV 5/5; 8/10] START colsample_bytree=0.3, learning_rate=0.15, max_depth=10, min_child_samples=20, min_child_weight=0.1, n_estimators=500, num_leaves=30, subsample=0.5, subsample_for_bin=10, subsample_freq=0\n",
      "[CV 5/5; 8/10] END colsample_bytree=0.3, learning_rate=0.15, max_depth=10, min_child_samples=20, min_child_weight=0.1, n_estimators=500, num_leaves=30, subsample=0.5, subsample_for_bin=10, subsample_freq=0; total time= 1.6min\n",
      "[CV 1/5; 9/10] START colsample_bytree=1, learning_rate=0.2, max_depth=-1, min_child_samples=10, min_child_weight=0.1, n_estimators=500, num_leaves=25, subsample=0.3, subsample_for_bin=10, subsample_freq=2\n",
      "[CV 1/5; 9/10] END colsample_bytree=1, learning_rate=0.2, max_depth=-1, min_child_samples=10, min_child_weight=0.1, n_estimators=500, num_leaves=25, subsample=0.3, subsample_for_bin=10, subsample_freq=2; total time= 1.2min\n",
      "[CV 2/5; 9/10] START colsample_bytree=1, learning_rate=0.2, max_depth=-1, min_child_samples=10, min_child_weight=0.1, n_estimators=500, num_leaves=25, subsample=0.3, subsample_for_bin=10, subsample_freq=2\n",
      "[CV 2/5; 9/10] END colsample_bytree=1, learning_rate=0.2, max_depth=-1, min_child_samples=10, min_child_weight=0.1, n_estimators=500, num_leaves=25, subsample=0.3, subsample_for_bin=10, subsample_freq=2; total time= 1.4min\n",
      "[CV 3/5; 9/10] START colsample_bytree=1, learning_rate=0.2, max_depth=-1, min_child_samples=10, min_child_weight=0.1, n_estimators=500, num_leaves=25, subsample=0.3, subsample_for_bin=10, subsample_freq=2\n",
      "[CV 3/5; 9/10] END colsample_bytree=1, learning_rate=0.2, max_depth=-1, min_child_samples=10, min_child_weight=0.1, n_estimators=500, num_leaves=25, subsample=0.3, subsample_for_bin=10, subsample_freq=2; total time= 1.4min\n",
      "[CV 4/5; 9/10] START colsample_bytree=1, learning_rate=0.2, max_depth=-1, min_child_samples=10, min_child_weight=0.1, n_estimators=500, num_leaves=25, subsample=0.3, subsample_for_bin=10, subsample_freq=2\n",
      "[CV 4/5; 9/10] END colsample_bytree=1, learning_rate=0.2, max_depth=-1, min_child_samples=10, min_child_weight=0.1, n_estimators=500, num_leaves=25, subsample=0.3, subsample_for_bin=10, subsample_freq=2; total time= 1.3min\n",
      "[CV 5/5; 9/10] START colsample_bytree=1, learning_rate=0.2, max_depth=-1, min_child_samples=10, min_child_weight=0.1, n_estimators=500, num_leaves=25, subsample=0.3, subsample_for_bin=10, subsample_freq=2\n",
      "[CV 5/5; 9/10] END colsample_bytree=1, learning_rate=0.2, max_depth=-1, min_child_samples=10, min_child_weight=0.1, n_estimators=500, num_leaves=25, subsample=0.3, subsample_for_bin=10, subsample_freq=2; total time= 1.4min\n",
      "[CV 1/5; 10/10] START colsample_bytree=0.3, learning_rate=0.01, max_depth=5, min_child_samples=20, min_child_weight=0.001, n_estimators=100, num_leaves=25, subsample=1, subsample_for_bin=400000, subsample_freq=0\n",
      "[CV 1/5; 10/10] END colsample_bytree=0.3, learning_rate=0.01, max_depth=5, min_child_samples=20, min_child_weight=0.001, n_estimators=100, num_leaves=25, subsample=1, subsample_for_bin=400000, subsample_freq=0; total time=  38.3s\n",
      "[CV 2/5; 10/10] START colsample_bytree=0.3, learning_rate=0.01, max_depth=5, min_child_samples=20, min_child_weight=0.001, n_estimators=100, num_leaves=25, subsample=1, subsample_for_bin=400000, subsample_freq=0\n",
      "[CV 2/5; 10/10] END colsample_bytree=0.3, learning_rate=0.01, max_depth=5, min_child_samples=20, min_child_weight=0.001, n_estimators=100, num_leaves=25, subsample=1, subsample_for_bin=400000, subsample_freq=0; total time=  38.4s\n",
      "[CV 3/5; 10/10] START colsample_bytree=0.3, learning_rate=0.01, max_depth=5, min_child_samples=20, min_child_weight=0.001, n_estimators=100, num_leaves=25, subsample=1, subsample_for_bin=400000, subsample_freq=0\n",
      "[CV 3/5; 10/10] END colsample_bytree=0.3, learning_rate=0.01, max_depth=5, min_child_samples=20, min_child_weight=0.001, n_estimators=100, num_leaves=25, subsample=1, subsample_for_bin=400000, subsample_freq=0; total time=  38.2s\n",
      "[CV 4/5; 10/10] START colsample_bytree=0.3, learning_rate=0.01, max_depth=5, min_child_samples=20, min_child_weight=0.001, n_estimators=100, num_leaves=25, subsample=1, subsample_for_bin=400000, subsample_freq=0\n",
      "[CV 4/5; 10/10] END colsample_bytree=0.3, learning_rate=0.01, max_depth=5, min_child_samples=20, min_child_weight=0.001, n_estimators=100, num_leaves=25, subsample=1, subsample_for_bin=400000, subsample_freq=0; total time=  38.4s\n",
      "[CV 5/5; 10/10] START colsample_bytree=0.3, learning_rate=0.01, max_depth=5, min_child_samples=20, min_child_weight=0.001, n_estimators=100, num_leaves=25, subsample=1, subsample_for_bin=400000, subsample_freq=0\n",
      "[CV 5/5; 10/10] END colsample_bytree=0.3, learning_rate=0.01, max_depth=5, min_child_samples=20, min_child_weight=0.001, n_estimators=100, num_leaves=25, subsample=1, subsample_for_bin=400000, subsample_freq=0; total time=  38.5s\n"
     ]
    },
    {
     "data": {
      "text/plain": [
       "RandomizedSearchCV(estimator=LGBMClassifier(), n_jobs=1,\n",
       "                   param_distributions={'colsample_bytree': [0.1, 0.3, 0.5, 1],\n",
       "                                        'learning_rate': [0.01, 0.03, 0.05, 0.1,\n",
       "                                                          0.15, 0.2],\n",
       "                                        'max_depth': [5, 10, -1],\n",
       "                                        'min_child_samples': [5, 10, 20, 50],\n",
       "                                        'min_child_weight': [0.0001, 0.001,\n",
       "                                                             0.01, 0.1],\n",
       "                                        'n_estimators': [50, 100, 200, 500,\n",
       "                                                         1000, 1500],\n",
       "                                        'num_leaves': [25, 30, 60, 100, 500],\n",
       "                                        'subsample': [0.1, 0.3, 0.5, 1],\n",
       "                                        'subsample_for_bin': [10, 100000,\n",
       "                                                              200000, 400000],\n",
       "                                        'subsample_freq': [0, 1, 2, 5]},\n",
       "                   scoring='neg_log_loss', verbose=10)"
      ]
     },
     "execution_count": 5,
     "metadata": {},
     "output_type": "execute_result"
    }
   ],
   "source": [
    "x_cfl=lightgbm.LGBMClassifier(n_jobs = -1)\n",
    "\n",
    "prams={\n",
    "    'learning_rate':[0.01,0.03,0.05,0.1,0.15,0.2],\n",
    "     'n_estimators':[50,100,200,500,1000,1500],\n",
    "     'max_depth':[5,10,-1],\n",
    "    'colsample_bytree':[0.1,0.3,0.5,1],\n",
    "    'subsample':[0.1,0.3,0.5,1],\n",
    "    'min_child_samples':[5,10,20,50],\n",
    "    'min_child_weight':[0.0001,0.001,0.01,0.1],\n",
    "    'num_leaves':[25,30,60,100,500],\n",
    "    'subsample_freq':[0,1,2,5],\n",
    "    'subsample_for_bin':[10,100000,200000,400000]\n",
    "}\n",
    "random_cfl1=RandomizedSearchCV(x_cfl,param_distributions=prams,verbose=10,n_jobs=1,scoring='neg_log_loss',)\n",
    "random_cfl1.fit(x_train,y_train)"
   ]
  },
  {
   "cell_type": "code",
   "execution_count": 6,
   "id": "plastic-missouri",
   "metadata": {},
   "outputs": [],
   "source": [
    "parameters=random_cfl1.best_params_"
   ]
  },
  {
   "cell_type": "code",
   "execution_count": 90,
   "id": "published-charity",
   "metadata": {},
   "outputs": [],
   "source": [
    "parameters={'subsample_freq': 0,\n",
    " 'subsample_for_bin': 200000,\n",
    " 'subsample': 0.1,\n",
    " 'num_leaves': 25,\n",
    " 'n_estimators': 1500,\n",
    " 'min_child_weight': 0.001,\n",
    " 'min_child_samples': 10,\n",
    " 'max_depth': 5,\n",
    " 'learning_rate': 0.05,\n",
    " 'colsample_bytree': 1}"
   ]
  },
  {
   "cell_type": "markdown",
   "id": "educational-combination",
   "metadata": {},
   "source": [
    "###### training with best hyperparameters"
   ]
  },
  {
   "cell_type": "code",
   "execution_count": 37,
   "id": "judicial-sword",
   "metadata": {},
   "outputs": [],
   "source": [
    "clf_lgb=lightgbm.LGBMClassifier(boosting_type='gbdt',objective='binary',n_jobs=-1,n_estimators=parameters['n_estimators'],subsample_freq=parameters['subsample_freq'],\\\n",
    "                                subsample_for_bin=parameters['subsample_for_bin'],subsample=parameters['subsample'],min_child_weight=parameters['min_child_weight'],min_child_samples=parameters['min_child_samples'],\\\n",
    "                                max_depth=parameters['max_depth'],learning_rate=parameters['learning_rate'], colsample_bytree=parameters['colsample_bytree'], num_leaves=parameters['num_leaves'],is_unbalance=True,random_state=2)\n",
    "clf_lgb.fit(x_train,y_train)\n",
    "cab_cfl=CalibratedClassifierCV(clf_lgb,method='sigmoid')\n",
    "cab_cfl.fit(x_train,y_train)\n",
    "y_pred_proba=cab_cfl.predict_proba(x_test)"
   ]
  },
  {
   "cell_type": "code",
   "execution_count": 8,
   "id": "saving-mediterranean",
   "metadata": {},
   "outputs": [],
   "source": [
    "filename='lgbmmodel.sav'\n",
    "pickle.dump(cab_cfl,open(filename,'wb'))\n",
    "#cab_cfl=pickle.load(open(filename,'rb'))"
   ]
  },
  {
   "cell_type": "code",
   "execution_count": 94,
   "id": "selected-ridge",
   "metadata": {},
   "outputs": [
    {
     "data": {
      "application/vnd.jupyter.widget-view+json": {
       "model_id": "1fc22bf7d2324966b6859b8f150be9ba",
       "version_major": 2,
       "version_minor": 0
      },
      "text/plain": [
       "  0%|          | 0/39526 [00:00<?, ?it/s]"
      ]
     },
     "metadata": {},
     "output_type": "display_data"
    },
    {
     "data": {
      "application/vnd.jupyter.widget-view+json": {
       "model_id": "89de460a38de4f7684170d325126b8d2",
       "version_major": 2,
       "version_minor": 0
      },
      "text/plain": [
       "  0%|          | 0/39526 [00:00<?, ?it/s]"
      ]
     },
     "metadata": {},
     "output_type": "display_data"
    },
    {
     "name": "stdout",
     "output_type": "stream",
     "text": [
      "lightgbm Micro_f1_score is:  0.37969665766200983\n",
      "lightgbm Macro_f1_score is:  0.4572412935814875\n"
     ]
    }
   ],
   "source": [
    "micro_f1_score,macro_f1_score = measure_best_F1_score(y_pred_proba)\n",
    "\n",
    "print('lightgbm Micro_f1_score is: ',micro_f1_score)\n",
    "print('lightgbm Macro_f1_score is: ',macro_f1_score)"
   ]
  },
  {
   "cell_type": "markdown",
   "id": "metropolitan-genius",
   "metadata": {},
   "source": [
    "### Testing Various models  ends here "
   ]
  },
  {
   "cell_type": "code",
   "execution_count": 116,
   "id": "banner-grenada",
   "metadata": {},
   "outputs": [
    {
     "data": {
      "text/plain": [
       "array([ 849, 1609, 1513, 1267,  733,  369,  662,  500,   35,  265,  587,\n",
       "        213,  416,  535, 1205,  899,  412,  996, 1052,  331,  653,  384,\n",
       "        434,  376,  240,  595, 1629,  205,  655,  684,  951,  460,  267,\n",
       "        560,  266,   11,   39,   58,   39,  263,  310,    0,  176,  456,\n",
       "        687,    0,  489,    0,    0,    7,    0,   60,    0,    0,  889,\n",
       "        463,  381,  674,  200, 1094, 1143,  494,  465, 1157,    0,    0,\n",
       "          0,    0,    0,  159, 1205,  722,  763,  525,  203,    8],\n",
       "      dtype=int32)"
      ]
     },
     "execution_count": 116,
     "metadata": {},
     "output_type": "execute_result"
    }
   ],
   "source": [
    "clf_lgb.feature_importances_"
   ]
  },
  {
   "cell_type": "markdown",
   "id": "transsexual-joining",
   "metadata": {},
   "source": [
    "#### plotting feature importance of lightgbm model"
   ]
  },
  {
   "cell_type": "code",
   "execution_count": 115,
   "id": "thrown-leisure",
   "metadata": {},
   "outputs": [
    {
     "data": {
      "text/plain": [
       "<AxesSubplot:title={'center':'Feature importance'}, xlabel='Feature importance', ylabel='Features'>"
      ]
     },
     "execution_count": 115,
     "metadata": {},
     "output_type": "execute_result"
    },
    {
     "data": {
      "image/png": "[encoded data removed]",
      "text/plain": [
       "<Figure size 864x576 with 1 Axes>"
      ]
     },
     "metadata": {
      "needs_background": "light"
     },
     "output_type": "display_data"
    }
   ],
   "source": [
    "lightgbm.plot_importance(clf_lgb,max_num_features=25,figsize=(12,8))"
   ]
  },
  {
   "cell_type": "markdown",
   "id": "whole-absorption",
   "metadata": {},
   "source": [
    "#### F1 Score calculation"
   ]
  },
  {
   "cell_type": "markdown",
   "id": "completed-settle",
   "metadata": {},
   "source": [
    "### Calculating f1 score based on diffferent probability threshold"
   ]
  },
  {
   "cell_type": "code",
   "execution_count": 11,
   "id": "altered-playlist",
   "metadata": {},
   "outputs": [],
   "source": [
    "y_pred_proba = cab_cfl.predict_proba(x_test)"
   ]
  },
  {
   "cell_type": "code",
   "execution_count": 18,
   "id": "polished-equipment",
   "metadata": {},
   "outputs": [],
   "source": [
    "threshold = [0.1,0.2,0.3,0.4,0.5]"
   ]
  },
  {
   "cell_type": "code",
   "execution_count": 19,
   "id": "vocational-terrorist",
   "metadata": {},
   "outputs": [],
   "source": [
    "threshold = [0.1,0.2,0.3,0.4,0.5]\n",
    "y_pred_of_pred=[]\n",
    "for i in threshold:\n",
    "    y_pred=[]\n",
    "    for j in range(len(y_pred_proba)):\n",
    "        if(y_pred_proba[j][1]>i):\n",
    "            y_pred.append(1)\n",
    "        else:\n",
    "            y_pred.append(0)\n",
    "    y_pred_of_pred.append(y_pred)"
   ]
  },
  {
   "cell_type": "markdown",
   "id": "fourth-monitoring",
   "metadata": {},
   "source": [
    "### 0.2 found to be the best threshold"
   ]
  },
  {
   "cell_type": "markdown",
   "id": "covered-shuttle",
   "metadata": {},
   "source": [
    "##### Preparing data format  for kaggle competion (this f1 score we will specifically use in kaggle , not applicable to real world ), For real world seperate f1 score is calculated"
   ]
  },
  {
   "cell_type": "code",
   "execution_count": 5,
   "id": "recent-large",
   "metadata": {},
   "outputs": [],
   "source": [
    "pred_true_data=pd.read_csv('pred_true_data.csv')"
   ]
  },
  {
   "cell_type": "code",
   "execution_count": 6,
   "id": "generic-ridge",
   "metadata": {},
   "outputs": [
    {
     "data": {
      "application/vnd.jupyter.widget-view+json": {
       "model_id": "e6a0f8dd32324f20aa570085493b31c7",
       "version_major": 2,
       "version_minor": 0
      },
      "text/plain": [
       "  0%|          | 0/39526 [00:00<?, ?it/s]"
      ]
     },
     "metadata": {},
     "output_type": "display_data"
    },
    {
     "data": {
      "application/vnd.jupyter.widget-view+json": {
       "model_id": "5c5bccb39fcb4a74b65a4602a02eb4c6",
       "version_major": 2,
       "version_minor": 0
      },
      "text/plain": [
       "  0%|          | 0/39526 [00:00<?, ?it/s]"
      ]
     },
     "metadata": {},
     "output_type": "display_data"
    }
   ],
   "source": [
    "temp_test_order_id=pd.unique(pred_true_data['order_id'])\n",
    "f_test_pro=dict()\n",
    "f_pred_proba=dict()\n",
    "f_pred_products=dict()\n",
    "for oid in tqdm(temp_test_order_id):\n",
    "    \n",
    "    temp_data=pred_true_data[pred_true_data['order_id']==oid]\n",
    "    temp_true=temp_data[temp_data['y_true']==1]['product_id'].tolist()\n",
    "    if temp_true:\n",
    "        f_test_pro[oid]=[str(i) for i in temp_true]\n",
    "    else:\n",
    "        f_test_pro[oid]=['None']\n",
    "    \n",
    "    temp_pred_list=temp_data['deep_proba'].tolist()\n",
    "    products_proba =temp_data['product_id'].tolist()\n",
    "    f_pred_proba[oid]    = [round(i,4) for i in temp_pred_list]\n",
    "    f_pred_products[oid] = products_proba\n",
    "    \n",
    "pred_list=dict()\n",
    "for oid in tqdm(temp_test_order_id):\n",
    "    a=get_best_prediction(f_pred_products[oid],f_pred_proba[oid])\n",
    "    pred_list[oid]=a\n",
    "#f_score=[]\n",
    "#for key in tqdm(f_test_pro):\n",
    "#    f_score.append(multilabel_fscore(f_test_pro[key],pred_list[key].split(' ')))"
   ]
  },
  {
   "cell_type": "code",
   "execution_count": 9,
   "id": "identical-correlation",
   "metadata": {},
   "outputs": [
    {
     "data": {
      "application/vnd.jupyter.widget-view+json": {
       "model_id": "2569eecbc8d54a23aba82c8d510c4099",
       "version_major": 2,
       "version_minor": 0
      },
      "text/plain": [
       "  0%|          | 0/39526 [00:00<?, ?it/s]"
      ]
     },
     "metadata": {},
     "output_type": "display_data"
    }
   ],
   "source": [
    "f_score=[]\n",
    "for key in tqdm(f_test_pro):\n",
    "    f_score.append(multilabel_fscore(f_test_pro[key],pred_list[key].split(' ')))"
   ]
  },
  {
   "cell_type": "code",
   "execution_count": 10,
   "id": "brilliant-mustang",
   "metadata": {},
   "outputs": [
    {
     "data": {
      "text/plain": [
       "0.3958229723841579"
      ]
     },
     "execution_count": 10,
     "metadata": {},
     "output_type": "execute_result"
    }
   ],
   "source": [
    "np.mean(f_score)"
   ]
  },
  {
   "cell_type": "code",
   "execution_count": 45,
   "id": "biblical-surveillance",
   "metadata": {},
   "outputs": [
    {
     "data": {
      "application/vnd.jupyter.widget-view+json": {
       "model_id": "",
       "version_major": 2,
       "version_minor": 0
      },
      "text/plain": [
       "  0%|          | 0/39526 [00:00<?, ?it/s]"
      ]
     },
     "metadata": {},
     "output_type": "display_data"
    },
    {
     "data": {
      "application/vnd.jupyter.widget-view+json": {
       "model_id": "",
       "version_major": 2,
       "version_minor": 0
      },
      "text/plain": [
       "  0%|          | 0/39526 [00:00<?, ?it/s]"
      ]
     },
     "metadata": {},
     "output_type": "display_data"
    },
    {
     "name": "stdout",
     "output_type": "stream",
     "text": [
      "lightgbm Micro_f1_score is:  0.37414362993378963\n",
      "lightgbm Macro_f1_score is:  0.45564490043210404\n"
     ]
    }
   ],
   "source": [
    "micro_f1_score,macro_f1_score = measure_best_F1_score(y_pred_proba)\n",
    "\n",
    "print('lightgbm Micro_f1_score is: ',micro_f1_score)\n",
    "print('lightgbm Macro_f1_score is: ',macro_f1_score)"
   ]
  },
  {
   "cell_type": "markdown",
   "id": "emotional-taylor",
   "metadata": {},
   "source": [
    "#### Kaggle related code ends here"
   ]
  },
  {
   "cell_type": "markdown",
   "id": "fitted-clone",
   "metadata": {},
   "source": []
  },
  {
   "cell_type": "markdown",
   "id": "announced-offering",
   "metadata": {},
   "source": [
    "### Final score table with different hypertuned models and for best probability threshold of 0.2"
   ]
  },
  {
   "cell_type": "code",
   "execution_count": 49,
   "id": "jewish-generic",
   "metadata": {},
   "outputs": [
    {
     "name": "stdout",
     "output_type": "stream",
     "text": [
      "+----------------------------------------+----------------+----------------+\n",
      "|               Model Name               | micro_f1_score | macro_f1_score |\n",
      "+----------------------------------------+----------------+----------------+\n",
      "|      Logistic Regression_balanced      |     0.3714     |     0.4379     |\n",
      "|       Linear SVM_class_balanced        |     0.3674     |     0.4452     |\n",
      "|      Naive Baye's class balanced       |     0.3092     |     0.3997     |\n",
      "| Naive Baye's class balanced calibrated |      0.21      |      0.27      |\n",
      "|             Random Forest              |    0.37007     |     0.4297     |\n",
      "|      Random Forest_class_balanced      |     0.3781     |     0.4578     |\n",
      "|                Xgboost                 |     0.3685     |     0.4268     |\n",
      "|         Xgboost_class_balanced         |     0.3779     |     0.4561     |\n",
      "|                lightgbm                |     0.3707     |     0.428      |\n",
      "|        lightgbm_class_balanced         |     0.3796     |     0.4572     |\n",
      "|       average_probability_models       |     0.3806     |     0.4579     |\n",
      "+----------------------------------------+----------------+----------------+\n"
     ]
    }
   ],
   "source": [
    "#credits: https://zetcode.com/python/prettytable/\n",
    "from prettytable import PrettyTable\n",
    "    \n",
    "x = PrettyTable()\n",
    "\n",
    "x.field_names = [\"Model Name\", \"micro_f1_score\", \"macro_f1_score\"]\n",
    "\n",
    "x.add_row([\"Logistic Regression_balanced\", 0.3714, 0.4379])\n",
    "x.add_row([\"Linear SVM_class_balanced\", 0.3674, 0.4452])\n",
    "x.add_row([\"Naive Baye's class balanced \", 0.3092, 0.3997])\n",
    "x.add_row([\"Naive Baye's class balanced calibrated\", 0.21, 0.27])\n",
    "x.add_row([\"Random Forest\", 0.37007, 0.4297])\n",
    "x.add_row([\"Random Forest_class_balanced\", 0.3781, 0.4578])\n",
    "x.add_row([\"Xgboost\", 0.3685, 0.4268])\n",
    "x.add_row([\"Xgboost_class_balanced\",0.3779 ,0.4561])\n",
    "x.add_row([\"lightgbm\", 0.3707, 0.428])\n",
    "x.add_row([\"lightgbm_class_balanced\",0.3796,0.4572])\n",
    "x.add_row([\"average_probability_models\",0.3806,0.4579])\n",
    "\n",
    "print(x)"
   ]
  },
  {
   "cell_type": "markdown",
   "id": "flying-brain",
   "metadata": {},
   "source": [
    "Note<br>\n",
    "\n",
    "<ol>micro_f1_score:Here I calculated f1_scores for each user product list and took average across all users.(This will be used in kaggle)\n",
    "macro_f1_score:Here I calculated f1_scores for each user product list and taking weighted average of products with each user.</ol>"
   ]
  },
  {
   "cell_type": "markdown",
   "id": "hairy-membrane",
   "metadata": {},
   "source": [
    "### Procedure\n",
    "<ol>\n",
    " <li>After EDA I processed the data . Only 'days_since_prior_order' had null values. Took care of it while featurizing . There were no outliers or missing values .Data was clean with every other aspects. Combined prior data with training data for creating training label.After featurizing found that 'reordered data' is much lower than 'not reordered data'. So there was data imbalance. Took care of this issue while creating models.</li>\n",
    "<li>Tried linear classification techniques like logistic regression , linear svm with hypertuning and found the f1_scores. Data imbalance issue was taken care.</li>\n",
    "<li>Tried non linear classification techniques like naive baye's, random forest,xgboost and lightgbm with hypertuning and found the f1_scores. F1 scores with class balanced and not balanced found out.Data balancing improved the performance</li>\n",
    " <li>random forest , xgboost, lightgbm performed and scores were very close. Logistic regression and linear svm scores were very competitive to these advanced non_linear methods. Naive baye's was the worst performer</li>\n",
    " <li>random forest , xgboost, lightgbm performed and scores were very close. Logistic regression and linear svm scores were very competitive to these advanced non_linear methods. Naive baye's was the worst performer</li>\n",
    " <li>I checked the accuracy of the models for different probability thresholds , o.2 found to be the best threshold</li> \n",
    " <li>Highest score recorded was for lightgbm with 0.3796 micro_f1 score and 0.4572 macro_f1 score</li>\n",
    " <li>Feature importance graph is plotted for lightgbm , just to check important features</li>\n",
    " <li>Then took average probabilities of 4 top performed models and calculated the scores again . This time micro and macro f1 scores of 0.3806 and 0.4579 was obtained</li>\n",
    "</ol>"
   ]
  },
  {
   "cell_type": "markdown",
   "id": "renewable-butterfly",
   "metadata": {},
   "source": [
    "###### Final top scores"
   ]
  },
  {
   "cell_type": "code",
   "execution_count": 2,
   "id": "discrete-tenant",
   "metadata": {},
   "outputs": [],
   "source": [
    "final_data_scores=pd.read_csv('final_data_scores.csv')"
   ]
  },
  {
   "cell_type": "code",
   "execution_count": 4,
   "id": "north-climb",
   "metadata": {},
   "outputs": [
    {
     "data": {
      "text/html": [
       "<div>\n",
       "<style scoped>\n",
       "    .dataframe tbody tr th:only-of-type {\n",
       "        vertical-align: middle;\n",
       "    }\n",
       "\n",
       "    .dataframe tbody tr th {\n",
       "        vertical-align: top;\n",
       "    }\n",
       "\n",
       "    .dataframe thead th {\n",
       "        text-align: right;\n",
       "    }\n",
       "</style>\n",
       "<table border=\"1\" class=\"dataframe\">\n",
       "  <thead>\n",
       "    <tr style=\"text-align: right;\">\n",
       "      <th></th>\n",
       "      <th>model</th>\n",
       "      <th>micro_f1_score</th>\n",
       "      <th>macro_f1_score</th>\n",
       "      <th>F1_maximization_technique(for kaggle)</th>\n",
       "    </tr>\n",
       "  </thead>\n",
       "  <tbody>\n",
       "    <tr>\n",
       "      <th>0</th>\n",
       "      <td>logistic_Regression</td>\n",
       "      <td>0.3713</td>\n",
       "      <td>0.4379</td>\n",
       "      <td>0.381847</td>\n",
       "    </tr>\n",
       "    <tr>\n",
       "      <th>1</th>\n",
       "      <td>light_gbm_class_weight_balanced</td>\n",
       "      <td>0.3797</td>\n",
       "      <td>0.4572</td>\n",
       "      <td>0.393008</td>\n",
       "    </tr>\n",
       "    <tr>\n",
       "      <th>2</th>\n",
       "      <td>Random_Forest_class_weight_balanced</td>\n",
       "      <td>0.3781</td>\n",
       "      <td>0.4579</td>\n",
       "      <td>0.386002</td>\n",
       "    </tr>\n",
       "    <tr>\n",
       "      <th>3</th>\n",
       "      <td>xgboost_class_weight_balanced</td>\n",
       "      <td>0.3779</td>\n",
       "      <td>0.4561</td>\n",
       "      <td>0.388542</td>\n",
       "    </tr>\n",
       "    <tr>\n",
       "      <th>4</th>\n",
       "      <td>avgProbability_xrl</td>\n",
       "      <td>0.3799</td>\n",
       "      <td>0.4588</td>\n",
       "      <td>0.390651</td>\n",
       "    </tr>\n",
       "    <tr>\n",
       "      <th>5</th>\n",
       "      <td>avgProbability_lxrl</td>\n",
       "      <td>0.3806</td>\n",
       "      <td>0.4579</td>\n",
       "      <td>0.390948</td>\n",
       "    </tr>\n",
       "  </tbody>\n",
       "</table>\n",
       "</div>"
      ],
      "text/plain": [
       "                                 model  micro_f1_score  macro_f1_score  \\\n",
       "0                  logistic_Regression          0.3713          0.4379   \n",
       "1      light_gbm_class_weight_balanced          0.3797          0.4572   \n",
       "2  Random_Forest_class_weight_balanced          0.3781          0.4579   \n",
       "3        xgboost_class_weight_balanced          0.3779          0.4561   \n",
       "4                   avgProbability_xrl          0.3799          0.4588   \n",
       "5                  avgProbability_lxrl          0.3806          0.4579   \n",
       "\n",
       "   F1_maximization_technique(for kaggle)  \n",
       "0                               0.381847  \n",
       "1                               0.393008  \n",
       "2                               0.386002  \n",
       "3                               0.388542  \n",
       "4                               0.390651  \n",
       "5                               0.390948  "
      ]
     },
     "execution_count": 4,
     "metadata": {},
     "output_type": "execute_result"
    }
   ],
   "source": [
    "final_data_scores[['model','micro_f1_score','macro_f1_score','F1_maximization_technique(for kaggle)']]"
   ]
  },
  {
   "cell_type": "markdown",
   "id": "genetic-translator",
   "metadata": {},
   "source": [
    "#### Micro and macro f1 scores are applicable to real world scoring . Here I used a special technique called F1_score_maximization technique. This will be used to boost the kaggle score."
   ]
  },
  {
   "cell_type": "markdown",
   "id": "upper-footage",
   "metadata": {},
   "source": [
    "##### Highest F1_score calculated with F1_score_maximization technique is <font color='red'>0.3930</font>, which is my probable kaggle score"
   ]
  },
  {
   "cell_type": "markdown",
   "id": "formal-designer",
   "metadata": {},
   "source": [
    "#### Kaggle scorecard screenshot of different models"
   ]
  },
  {
   "cell_type": "code",
   "execution_count": 3,
   "id": "sealed-broad",
   "metadata": {},
   "outputs": [
    {
     "data": {
      "image/png": "[encoded data removed]",
      "text/plain": [
       "<IPython.core.display.Image object>"
      ]
     },
     "execution_count": 3,
     "metadata": {},
     "output_type": "execute_result"
    }
   ],
   "source": [
    "#https://stackoverflow.com/questions/32370281/how-to-embed-image-or-picture-in-jupyter-notebook-either-from-a-local-machine-o\n",
    "from IPython.display import Image\n",
    "Image(\"kaggleresult1.PNG\")\n"
   ]
  },
  {
   "cell_type": "code",
   "execution_count": 5,
   "id": "bronze-crazy",
   "metadata": {},
   "outputs": [
    {
     "data": {
      "image/png": "[encoded data removed]",
      "text/plain": [
       "<IPython.core.display.Image object>"
      ]
     },
     "execution_count": 5,
     "metadata": {},
     "output_type": "execute_result"
    }
   ],
   "source": [
    "Image(\"kaggleresult2.PNG\")"
   ]
  },
  {
   "cell_type": "markdown",
   "id": "fluid-accessory",
   "metadata": {},
   "source": [
    "### Highest public board score achieved is 0.39769 and 0.39612 for private board\n",
    "### Highest accuracy obtained for average probability of prediction for reorder across different models"
   ]
  }
 ],
 "metadata": {
  "kernelspec": {
   "display_name": "Python 3",
   "language": "python",
   "name": "python3"
  },
  "language_info": {
   "codemirror_mode": {
    "name": "ipython",
    "version": 3
   },
   "file_extension": ".py",
   "mimetype": "text/x-python",
   "name": "python",
   "nbconvert_exporter": "python",
   "pygments_lexer": "ipython3",
   "version": "3.7.9"
  }
 },
 "nbformat": 4,
 "nbformat_minor": 5
}
